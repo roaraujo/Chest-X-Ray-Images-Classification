{
 "cells": [
  {
   "attachments": {},
   "cell_type": "markdown",
   "metadata": {},
   "source": [
    "# Modelagem"
   ]
  },
  {
   "attachments": {},
   "cell_type": "markdown",
   "metadata": {},
   "source": [
    "### Bibliotecas"
   ]
  },
  {
   "cell_type": "code",
   "execution_count": 2,
   "metadata": {},
   "outputs": [
    {
     "name": "stderr",
     "output_type": "stream",
     "text": [
      "c:\\Anaconda\\envs\\artigo\\lib\\site-packages\\tqdm\\auto.py:22: TqdmWarning: IProgress not found. Please update jupyter and ipywidgets. See https://ipywidgets.readthedocs.io/en/stable/user_install.html\n",
      "  from .autonotebook import tqdm as notebook_tqdm\n"
     ]
    }
   ],
   "source": [
    "from os import listdir\n",
    "from pickle import dump\n",
    "import keras\n",
    "# from keras.applications.vgg16 import VGG16\n",
    "# from keras.preprocessing.image import load_img\n",
    "from tensorflow.keras.utils import load_img\n",
    "# from keras.preprocessing.image import img_to_array\n",
    "from tensorflow.keras.utils import img_to_array\n",
    "# from keras.applications import  resnet50\n",
    "# from keras.applications import resnet\n",
    "# from tensorflow.python.keras.applications.resnet import ResNet50 as resnet50\n",
    "from tensorflow.keras.applications import ResNet50\n",
    "from keras.models import Model\n",
    "import os\n",
    "from PIL import Image\n",
    "import pandas as pd\n",
    "\n",
    "import tqdm\n",
    "import matplotlib.pyplot as plt\n",
    "import random \n",
    "import tensorflow\n",
    "import numpy.core.multiarray\n",
    "import numpy as np # linear algebra\n",
    "import pandas as pd # data processing, CSV file I/O (e.g. pd.read_csv)\n",
    "# import cv2\n",
    "import matplotlib.pyplot as plt\n",
    "import tensorflow as tf\n",
    "from tensorflow.keras.models import Sequential\n",
    "from tensorflow.keras.layers import Dense, Flatten, Dropout, Activation, Conv2D, MaxPooling2D\n",
    "from sklearn.model_selection import RepeatedStratifiedKFold, LeaveOneOut, StratifiedShuffleSplit\n",
    "\n",
    "from keras.models import load_model\n",
    "\n",
    "import sklearn\n",
    "import subprocess\n",
    "import time\n",
    "# import PIL\n",
    "import seaborn as sns\n",
    "sns.set_style('whitegrid')\n",
    "sns.set_context('notebook')\n",
    "\n",
    "\n",
    "\n",
    "from lightgbm import LGBMClassifier\n",
    "\n",
    "from sklearn.preprocessing import PolynomialFeatures\n",
    "from sklearn import metrics\n",
    "from sklearn.linear_model import LinearRegression\n",
    "from sklearn.linear_model import LogisticRegression\n",
    "from sklearn.naive_bayes import GaussianNB\n",
    "from sklearn.tree import DecisionTreeClassifier\n",
    "from sklearn.ensemble import GradientBoostingClassifier\n",
    "from sklearn.neighbors import KNeighborsClassifier\n",
    "from sklearn.ensemble import RandomForestClassifier\n",
    "from sklearn.neural_network import MLPClassifier\n",
    "from sklearn.svm import SVC\n",
    "from sklearn.model_selection import GridSearchCV\n",
    "from sklearn.metrics  import auc, roc_curve, roc_auc_score\n",
    "\n",
    "from sklearn.model_selection import train_test_split\n",
    "\n",
    "from sklearn.preprocessing import StandardScaler\n",
    "from sklearn.decomposition import PCA\n",
    "from sklearn_genetic import GASearchCV\n",
    "from sklearn_genetic.space import Continuous, Categorical, Integer\n",
    "from sklearn_genetic.plots import plot_fitness_evolution\n",
    "\n",
    "from sklearn.metrics  import average_precision_score, make_scorer, roc_curve,f1_score, precision_score, recall_score, fbeta_score, auc, roc_auc_score, accuracy_score, confusion_matrix, classification_report,precision_recall_curve\n",
    "\n",
    "\n",
    "import matplotlib.pyplot as plt\n",
    "from sklearn.model_selection import learning_curve"
   ]
  },
  {
   "cell_type": "code",
   "execution_count": 3,
   "metadata": {},
   "outputs": [],
   "source": [
    "import time"
   ]
  },
  {
   "attachments": {},
   "cell_type": "markdown",
   "metadata": {},
   "source": [
    "### Funções auxiliares"
   ]
  },
  {
   "cell_type": "code",
   "execution_count": 58,
   "metadata": {},
   "outputs": [],
   "source": [
    "def fit_and_print(model, X_test):\n",
    "    y_pred = model.predict(X_test)\n",
    "    cm = confusion_matrix(y_test, y_pred)\n",
    "    cm_df = pd.DataFrame(cm)                      \n",
    "    plt.figure(figsize=(8,6))  \n",
    "    sns.heatmap(cm_df, annot=True)\n",
    "    print(\"Classification Report: \\n\", classification_report(y_test, y_pred))  \n",
    "\n",
    "\n",
    "    roc_auc = roc_auc_score(y_test, y_pred, multi_class = 'ovr', average=None)\n",
    "    gini = 2*roc_auc -1\n",
    "    print(\"Gini: \",gini)\n",
    "    print(\"ROC AUC:: \",roc_auc)\n",
    "    \n",
    "    \n",
    "\n",
    "\n",
    "def plot_learning_curve(estimator, metric, title, X, y, ylim=None, cv=None,\n",
    "                        n_jobs=-1, train_sizes=np.linspace(.1, 1.0, 5)):\n",
    "    \"\"\"Generate a simple plot of the test and training learning curve\"\"\"\n",
    "    plt.figure(figsize=(10, 6))\n",
    "    plt.title(title)\n",
    "    if ylim is not None:\n",
    "        plt.ylim(*ylim)\n",
    "    plt.xlabel(\"Training\")\n",
    "    plt.ylabel(\"Score\")\n",
    "    train_sizes, train_scores, test_scores = learning_curve(\n",
    "        estimator, X, y, cv=cv, n_jobs=n_jobs, train_sizes=train_sizes, scoring=metric)\n",
    "    train_scores_mean = np.mean(train_scores, axis=1)\n",
    "    train_scores_std = np.std(train_scores, axis=1)\n",
    "    test_scores_mean = np.mean(test_scores, axis=1)\n",
    "    test_scores_std = np.std(test_scores, axis=1)\n",
    "    plt.grid()\n",
    "\n",
    "    plt.fill_between(train_sizes, train_scores_mean - train_scores_std,\n",
    "                     train_scores_mean + train_scores_std, alpha=0.1,\n",
    "                     color=\"r\")\n",
    "    plt.fill_between(train_sizes, test_scores_mean - test_scores_std,\n",
    "                     test_scores_mean + test_scores_std, alpha=0.1, color=\"g\")\n",
    "    plt.plot(train_sizes, train_scores_mean, 'o-', color=\"r\",\n",
    "             label=\"Training score\")\n",
    "    plt.plot(train_sizes, test_scores_mean, 'o-', color=\"g\",\n",
    "             label=\"Cross-validation score\")\n",
    "\n",
    "    plt.legend(loc=\"best\")\n",
    "    return plt"
   ]
  },
  {
   "attachments": {},
   "cell_type": "markdown",
   "metadata": {},
   "source": [
    "### Leitura dos dados"
   ]
  },
  {
   "cell_type": "code",
   "execution_count": 5,
   "metadata": {},
   "outputs": [],
   "source": [
    "train_normal = pd.read_csv('data/features_train_NORMAL.csv') \n",
    "train_pneumonia = pd.read_csv('data/features_train_PNEUMONIA.csv') \n",
    "test_normal = pd.read_csv('data/features_test_NORMAL.csv') \n",
    "test_pneumonia = pd.read_csv('data/features_test_PNEUMONIA.csv') \n",
    "val_normal = pd.read_csv('data/features_val_NORMAL.csv') \n",
    "val_pneumonia = pd.read_csv('data/features_val_PNEUMONIA.csv')"
   ]
  },
  {
   "cell_type": "code",
   "execution_count": 6,
   "metadata": {},
   "outputs": [
    {
     "data": {
      "text/html": [
       "<div>\n",
       "<style scoped>\n",
       "    .dataframe tbody tr th:only-of-type {\n",
       "        vertical-align: middle;\n",
       "    }\n",
       "\n",
       "    .dataframe tbody tr th {\n",
       "        vertical-align: top;\n",
       "    }\n",
       "\n",
       "    .dataframe thead th {\n",
       "        text-align: right;\n",
       "    }\n",
       "</style>\n",
       "<table border=\"1\" class=\"dataframe\">\n",
       "  <thead>\n",
       "    <tr style=\"text-align: right;\">\n",
       "      <th></th>\n",
       "      <th>0</th>\n",
       "      <th>1</th>\n",
       "      <th>2</th>\n",
       "      <th>3</th>\n",
       "      <th>4</th>\n",
       "      <th>5</th>\n",
       "      <th>6</th>\n",
       "      <th>7</th>\n",
       "      <th>8</th>\n",
       "      <th>9</th>\n",
       "      <th>...</th>\n",
       "      <th>2038</th>\n",
       "      <th>2039</th>\n",
       "      <th>2040</th>\n",
       "      <th>2041</th>\n",
       "      <th>2042</th>\n",
       "      <th>2043</th>\n",
       "      <th>2044</th>\n",
       "      <th>2045</th>\n",
       "      <th>2046</th>\n",
       "      <th>2047</th>\n",
       "    </tr>\n",
       "  </thead>\n",
       "  <tbody>\n",
       "    <tr>\n",
       "      <th>0</th>\n",
       "      <td>2.999139</td>\n",
       "      <td>0.543836</td>\n",
       "      <td>0.060274</td>\n",
       "      <td>0.917675</td>\n",
       "      <td>0.009540</td>\n",
       "      <td>0.345252</td>\n",
       "      <td>0.027905</td>\n",
       "      <td>0.176260</td>\n",
       "      <td>0.010736</td>\n",
       "      <td>0.000000</td>\n",
       "      <td>...</td>\n",
       "      <td>0.078072</td>\n",
       "      <td>0.495050</td>\n",
       "      <td>0.072352</td>\n",
       "      <td>0.679880</td>\n",
       "      <td>0.118763</td>\n",
       "      <td>3.680598</td>\n",
       "      <td>0.947202</td>\n",
       "      <td>0.000000</td>\n",
       "      <td>0.098084</td>\n",
       "      <td>0.019690</td>\n",
       "    </tr>\n",
       "    <tr>\n",
       "      <th>1</th>\n",
       "      <td>2.399023</td>\n",
       "      <td>0.889779</td>\n",
       "      <td>0.236408</td>\n",
       "      <td>0.356420</td>\n",
       "      <td>0.347612</td>\n",
       "      <td>0.851300</td>\n",
       "      <td>0.007547</td>\n",
       "      <td>0.682990</td>\n",
       "      <td>0.000000</td>\n",
       "      <td>0.000000</td>\n",
       "      <td>...</td>\n",
       "      <td>0.528977</td>\n",
       "      <td>1.532787</td>\n",
       "      <td>0.161049</td>\n",
       "      <td>0.176580</td>\n",
       "      <td>0.025927</td>\n",
       "      <td>3.484241</td>\n",
       "      <td>0.432245</td>\n",
       "      <td>0.011744</td>\n",
       "      <td>0.131780</td>\n",
       "      <td>0.211954</td>\n",
       "    </tr>\n",
       "    <tr>\n",
       "      <th>2</th>\n",
       "      <td>3.560692</td>\n",
       "      <td>0.524534</td>\n",
       "      <td>0.100639</td>\n",
       "      <td>1.150568</td>\n",
       "      <td>0.127389</td>\n",
       "      <td>0.122714</td>\n",
       "      <td>0.048730</td>\n",
       "      <td>0.637496</td>\n",
       "      <td>0.006043</td>\n",
       "      <td>0.013487</td>\n",
       "      <td>...</td>\n",
       "      <td>0.072989</td>\n",
       "      <td>0.721763</td>\n",
       "      <td>0.158741</td>\n",
       "      <td>0.147111</td>\n",
       "      <td>0.208592</td>\n",
       "      <td>6.276741</td>\n",
       "      <td>0.169258</td>\n",
       "      <td>0.010811</td>\n",
       "      <td>0.041234</td>\n",
       "      <td>0.119486</td>\n",
       "    </tr>\n",
       "    <tr>\n",
       "      <th>3</th>\n",
       "      <td>2.515798</td>\n",
       "      <td>1.734779</td>\n",
       "      <td>0.079940</td>\n",
       "      <td>0.275386</td>\n",
       "      <td>0.392427</td>\n",
       "      <td>0.027557</td>\n",
       "      <td>0.018423</td>\n",
       "      <td>0.520668</td>\n",
       "      <td>0.017515</td>\n",
       "      <td>0.023531</td>\n",
       "      <td>...</td>\n",
       "      <td>0.247187</td>\n",
       "      <td>0.455605</td>\n",
       "      <td>0.300804</td>\n",
       "      <td>0.073528</td>\n",
       "      <td>0.237737</td>\n",
       "      <td>4.459209</td>\n",
       "      <td>1.000311</td>\n",
       "      <td>0.180590</td>\n",
       "      <td>0.046704</td>\n",
       "      <td>0.142419</td>\n",
       "    </tr>\n",
       "    <tr>\n",
       "      <th>4</th>\n",
       "      <td>2.122934</td>\n",
       "      <td>2.394757</td>\n",
       "      <td>0.135300</td>\n",
       "      <td>0.093368</td>\n",
       "      <td>0.085646</td>\n",
       "      <td>0.734559</td>\n",
       "      <td>0.173804</td>\n",
       "      <td>0.918403</td>\n",
       "      <td>0.000000</td>\n",
       "      <td>0.000000</td>\n",
       "      <td>...</td>\n",
       "      <td>0.423113</td>\n",
       "      <td>0.709226</td>\n",
       "      <td>0.058120</td>\n",
       "      <td>0.242133</td>\n",
       "      <td>0.036847</td>\n",
       "      <td>2.774393</td>\n",
       "      <td>0.505837</td>\n",
       "      <td>0.075830</td>\n",
       "      <td>0.119881</td>\n",
       "      <td>0.141056</td>\n",
       "    </tr>\n",
       "  </tbody>\n",
       "</table>\n",
       "<p>5 rows × 2048 columns</p>\n",
       "</div>"
      ],
      "text/plain": [
       "          0         1         2         3         4         5         6  \\\n",
       "0  2.999139  0.543836  0.060274  0.917675  0.009540  0.345252  0.027905   \n",
       "1  2.399023  0.889779  0.236408  0.356420  0.347612  0.851300  0.007547   \n",
       "2  3.560692  0.524534  0.100639  1.150568  0.127389  0.122714  0.048730   \n",
       "3  2.515798  1.734779  0.079940  0.275386  0.392427  0.027557  0.018423   \n",
       "4  2.122934  2.394757  0.135300  0.093368  0.085646  0.734559  0.173804   \n",
       "\n",
       "          7         8         9  ...      2038      2039      2040      2041  \\\n",
       "0  0.176260  0.010736  0.000000  ...  0.078072  0.495050  0.072352  0.679880   \n",
       "1  0.682990  0.000000  0.000000  ...  0.528977  1.532787  0.161049  0.176580   \n",
       "2  0.637496  0.006043  0.013487  ...  0.072989  0.721763  0.158741  0.147111   \n",
       "3  0.520668  0.017515  0.023531  ...  0.247187  0.455605  0.300804  0.073528   \n",
       "4  0.918403  0.000000  0.000000  ...  0.423113  0.709226  0.058120  0.242133   \n",
       "\n",
       "       2042      2043      2044      2045      2046      2047  \n",
       "0  0.118763  3.680598  0.947202  0.000000  0.098084  0.019690  \n",
       "1  0.025927  3.484241  0.432245  0.011744  0.131780  0.211954  \n",
       "2  0.208592  6.276741  0.169258  0.010811  0.041234  0.119486  \n",
       "3  0.237737  4.459209  1.000311  0.180590  0.046704  0.142419  \n",
       "4  0.036847  2.774393  0.505837  0.075830  0.119881  0.141056  \n",
       "\n",
       "[5 rows x 2048 columns]"
      ]
     },
     "execution_count": 6,
     "metadata": {},
     "output_type": "execute_result"
    }
   ],
   "source": [
    "train_normal.head()"
   ]
  },
  {
   "cell_type": "code",
   "execution_count": 7,
   "metadata": {},
   "outputs": [],
   "source": [
    "train_normal['Y'] = 0\n",
    "test_normal['Y'] = 0\n",
    "val_normal['Y'] = 0\n",
    "train_pneumonia['Y'] = 1\n",
    "test_pneumonia['Y'] = 1\n",
    "val_pneumonia['Y'] = 1"
   ]
  },
  {
   "cell_type": "code",
   "execution_count": 8,
   "metadata": {},
   "outputs": [
    {
     "data": {
      "text/plain": [
       "(5216, 2049)"
      ]
     },
     "execution_count": 8,
     "metadata": {},
     "output_type": "execute_result"
    }
   ],
   "source": [
    "train = pd.concat([train_normal, train_pneumonia], axis=0)\n",
    "train.shape"
   ]
  },
  {
   "cell_type": "code",
   "execution_count": 9,
   "metadata": {},
   "outputs": [
    {
     "data": {
      "text/plain": [
       "1    0.742906\n",
       "0    0.257094\n",
       "Name: Y, dtype: float64"
      ]
     },
     "execution_count": 9,
     "metadata": {},
     "output_type": "execute_result"
    }
   ],
   "source": [
    "train.Y.value_counts()/len(train)"
   ]
  },
  {
   "cell_type": "code",
   "execution_count": 10,
   "metadata": {},
   "outputs": [
    {
     "data": {
      "text/plain": [
       "(624, 2049)"
      ]
     },
     "execution_count": 10,
     "metadata": {},
     "output_type": "execute_result"
    }
   ],
   "source": [
    "test = pd.concat([test_normal, test_pneumonia], axis=0)\n",
    "test.shape"
   ]
  },
  {
   "cell_type": "code",
   "execution_count": 11,
   "metadata": {},
   "outputs": [
    {
     "data": {
      "text/plain": [
       "1    0.625\n",
       "0    0.375\n",
       "Name: Y, dtype: float64"
      ]
     },
     "execution_count": 11,
     "metadata": {},
     "output_type": "execute_result"
    }
   ],
   "source": [
    "test.Y.value_counts()/len(test)"
   ]
  },
  {
   "cell_type": "code",
   "execution_count": 12,
   "metadata": {},
   "outputs": [
    {
     "data": {
      "text/plain": [
       "(16, 2049)"
      ]
     },
     "execution_count": 12,
     "metadata": {},
     "output_type": "execute_result"
    }
   ],
   "source": [
    "val = pd.concat([val_normal, val_pneumonia], axis=0)\n",
    "val.shape"
   ]
  },
  {
   "cell_type": "code",
   "execution_count": 13,
   "metadata": {},
   "outputs": [
    {
     "data": {
      "text/plain": [
       "0    0.5\n",
       "1    0.5\n",
       "Name: Y, dtype: float64"
      ]
     },
     "execution_count": 13,
     "metadata": {},
     "output_type": "execute_result"
    }
   ],
   "source": [
    "val.Y.value_counts()/len(val)"
   ]
  },
  {
   "cell_type": "code",
   "execution_count": 14,
   "metadata": {},
   "outputs": [],
   "source": [
    "X_train = train.drop(['Y'], axis=1)\n",
    "y_train = train.Y"
   ]
  },
  {
   "cell_type": "code",
   "execution_count": 15,
   "metadata": {},
   "outputs": [],
   "source": [
    "X_test = test.drop(['Y'], axis=1)\n",
    "y_test = test.Y"
   ]
  },
  {
   "cell_type": "code",
   "execution_count": 16,
   "metadata": {},
   "outputs": [],
   "source": [
    "X_val = val.drop(['Y'], axis=1)\n",
    "y_val = val.Y"
   ]
  },
  {
   "attachments": {},
   "cell_type": "markdown",
   "metadata": {},
   "source": [
    "### Aplicando PCA nos dados"
   ]
  },
  {
   "cell_type": "code",
   "execution_count": 17,
   "metadata": {},
   "outputs": [],
   "source": [
    "# Standardizing the features\n",
    "std = StandardScaler()\n",
    "X_train_2 = std.fit_transform(X_train)\n",
    "X_test_2 = std.transform(X_test)\n",
    "X_val_2 = std.transform(X_val)"
   ]
  },
  {
   "cell_type": "code",
   "execution_count": 18,
   "metadata": {},
   "outputs": [
    {
     "data": {
      "text/plain": [
       "2048"
      ]
     },
     "execution_count": 18,
     "metadata": {},
     "output_type": "execute_result"
    }
   ],
   "source": [
    "len(X_test_2[0])"
   ]
  },
  {
   "cell_type": "code",
   "execution_count": 28,
   "metadata": {},
   "outputs": [],
   "source": [
    "pca = PCA(n_components=600)\n",
    "X_train_3 = pca.fit_transform(X_train_2)\n",
    "X_test_3 = pca.transform(X_test_2)\n",
    "X_val_3 = pca.transform(X_val_2)"
   ]
  },
  {
   "cell_type": "code",
   "execution_count": 29,
   "metadata": {},
   "outputs": [
    {
     "data": {
      "text/plain": [
       "600"
      ]
     },
     "execution_count": 29,
     "metadata": {},
     "output_type": "execute_result"
    }
   ],
   "source": [
    "len(X_test_3[0])"
   ]
  },
  {
   "cell_type": "code",
   "execution_count": 30,
   "metadata": {},
   "outputs": [
    {
     "data": {
      "text/plain": [
       "0.9105390079898185"
      ]
     },
     "execution_count": 30,
     "metadata": {},
     "output_type": "execute_result"
    }
   ],
   "source": [
    "pca.explained_variance_ratio_.sum()"
   ]
  },
  {
   "attachments": {},
   "cell_type": "markdown",
   "metadata": {},
   "source": [
    "### Random Forest"
   ]
  },
  {
   "attachments": {},
   "cell_type": "markdown",
   "metadata": {},
   "source": [
    "https://scikit-learn.org/stable/modules/generated/sklearn.ensemble.RandomForestClassifier.html"
   ]
  },
  {
   "cell_type": "code",
   "execution_count": 31,
   "metadata": {},
   "outputs": [],
   "source": [
    "RF = RandomForestClassifier(random_state = 35)\n",
    "# cv = RepeatedStratifiedKFold(n_splits=5, n_repeats=3)\n",
    "cv = StratifiedShuffleSplit(n_splits=1, test_size=0.25, random_state=36)\n",
    "\n",
    "# metric = \"accuracy\"\n",
    "metric = \"roc_auc\"\n",
    "\n",
    "RF_search_space = {\"bootstrap\": Categorical([True]), # values for boostrap can be either True or False\n",
    "        \"criterion\": Categorical([\"gini\", \"entropy\"]), #\"gini\"\n",
    "        \"max_depth\": Integer(4, 8),\n",
    "        \"max_features\": Categorical(['sqrt','log2']), \n",
    "        \"min_samples_leaf\": Integer(80, 150),\n",
    "        \"min_samples_split\": Integer(200, 350),\n",
    "        \"n_estimators\": Integer(20, 80)\n",
    "    }"
   ]
  },
  {
   "attachments": {},
   "cell_type": "markdown",
   "metadata": {},
   "source": [
    "### Genetic Algorithm"
   ]
  },
  {
   "cell_type": "code",
   "execution_count": 32,
   "metadata": {},
   "outputs": [
    {
     "name": "stdout",
     "output_type": "stream",
     "text": [
      "gen\tnevals\tfitness \tfitness_std\tfitness_max\tfitness_min\n",
      "0  \t8     \t0.952525\t0.0226306  \t0.974172   \t0.913448   \n",
      "1  \t13    \t0.971348\t0.00619875 \t0.975876   \t0.959167   \n",
      "2  \t14    \t0.975441\t0.00116871 \t0.976868   \t0.972598   \n",
      "3  \t16    \t0.975918\t0.000690782\t0.97701    \t0.975137   \n",
      "4  \t13    \t0.977076\t0.00154207 \t0.979573   \t0.975278   \n",
      "5  \t15    \t0.97847 \t0.00146089 \t0.979573   \t0.975876   \n",
      "time train\n",
      "4.554252707958222\n",
      "Metric\n",
      "0.979572724612233\n",
      "RandomForestClassifier(criterion='entropy', max_depth=8, min_samples_leaf=82,\n",
      "                       min_samples_split=213, n_estimators=73, random_state=35)\n",
      "{'bootstrap': True, 'criterion': 'entropy', 'max_depth': 8, 'max_features': 'sqrt', 'min_samples_leaf': 82, 'min_samples_split': 213, 'n_estimators': 73}\n"
     ]
    }
   ],
   "source": [
    "#https://sklearn-genetic-opt.readthedocs.io/en/stable/api/gasearchcv.html\n",
    "\n",
    "RF_GA_search = GASearchCV(estimator=RF, param_grid=RF_search_space, return_train_score = True, \n",
    "                                    scoring=metric, n_jobs=-1, cv=cv,\n",
    "                                    population_size=8,\n",
    "                                    generations=5,\n",
    "                                    tournament_size=3,\n",
    "                                    elitism=True,\n",
    "                                    crossover_probability=0.8,\n",
    "                                    mutation_probability=0.1,\n",
    "                                    criteria='max',\n",
    "                                    algorithm='eaMuPlusLambda',\n",
    "                                    keep_top_k=1)\n",
    "\n",
    "inicio = time.time()\n",
    "RF_GA_search.fit(X_train_3, y_train) # callback=on_step will print score after each iteration\n",
    "fim = time.time()\n",
    "print(\"time train\")\n",
    "print((fim - inicio)/60)\n",
    "print(\"Metric\")\n",
    "print(RF_GA_search.best_score_)\n",
    "RF_best = RF_GA_search.best_estimator_\n",
    "print(RF_GA_search.best_estimator_)\n",
    "print(RF_GA_search.best_params_)"
   ]
  },
  {
   "cell_type": "code",
   "execution_count": 33,
   "metadata": {},
   "outputs": [
    {
     "data": {
      "image/png": "[encoded data removed]",
      "text/plain": [
       "<Figure size 720x432 with 1 Axes>"
      ]
     },
     "metadata": {
      "needs_background": "light"
     },
     "output_type": "display_data"
    }
   ],
   "source": [
    "# from sklearn_genetic.plots import plot_fitness_evolution\n",
    "plt.figure(figsize=(10, 6))\n",
    "plot = plot_fitness_evolution(RF_GA_search, metric=\"fitness\")\n",
    "plt.show()"
   ]
  },
  {
   "cell_type": "code",
   "execution_count": 34,
   "metadata": {},
   "outputs": [
    {
     "data": {
      "text/html": [
       "<div>\n",
       "<style scoped>\n",
       "    .dataframe tbody tr th:only-of-type {\n",
       "        vertical-align: middle;\n",
       "    }\n",
       "\n",
       "    .dataframe tbody tr th {\n",
       "        vertical-align: top;\n",
       "    }\n",
       "\n",
       "    .dataframe thead th {\n",
       "        text-align: right;\n",
       "    }\n",
       "</style>\n",
       "<table border=\"1\" class=\"dataframe\">\n",
       "  <thead>\n",
       "    <tr style=\"text-align: right;\">\n",
       "      <th></th>\n",
       "      <th>param_bootstrap</th>\n",
       "      <th>param_criterion</th>\n",
       "      <th>param_max_depth</th>\n",
       "      <th>param_max_features</th>\n",
       "      <th>param_min_samples_leaf</th>\n",
       "      <th>param_min_samples_split</th>\n",
       "      <th>param_n_estimators</th>\n",
       "      <th>split0_test_score</th>\n",
       "      <th>mean_test_score</th>\n",
       "      <th>std_test_score</th>\n",
       "      <th>rank_test_score</th>\n",
       "      <th>split0_train_score</th>\n",
       "      <th>mean_train_score</th>\n",
       "      <th>std_train_score</th>\n",
       "      <th>rank_train_score</th>\n",
       "      <th>mean_fit_time</th>\n",
       "      <th>std_fit_time</th>\n",
       "      <th>mean_score_time</th>\n",
       "      <th>std_score_time</th>\n",
       "      <th>params</th>\n",
       "    </tr>\n",
       "  </thead>\n",
       "  <tbody>\n",
       "    <tr>\n",
       "      <th>54</th>\n",
       "      <td>True</td>\n",
       "      <td>entropy</td>\n",
       "      <td>8</td>\n",
       "      <td>sqrt</td>\n",
       "      <td>82</td>\n",
       "      <td>213</td>\n",
       "      <td>73</td>\n",
       "      <td>0.979573</td>\n",
       "      <td>0.979573</td>\n",
       "      <td>0.0</td>\n",
       "      <td>1</td>\n",
       "      <td>0.990255</td>\n",
       "      <td>0.990255</td>\n",
       "      <td>0.0</td>\n",
       "      <td>1</td>\n",
       "      <td>3.946288</td>\n",
       "      <td>0.0</td>\n",
       "      <td>0.019909</td>\n",
       "      <td>0.0</td>\n",
       "      <td>{'bootstrap': True, 'criterion': 'entropy', 'm...</td>\n",
       "    </tr>\n",
       "    <tr>\n",
       "      <th>72</th>\n",
       "      <td>True</td>\n",
       "      <td>entropy</td>\n",
       "      <td>8</td>\n",
       "      <td>sqrt</td>\n",
       "      <td>82</td>\n",
       "      <td>213</td>\n",
       "      <td>73</td>\n",
       "      <td>0.979573</td>\n",
       "      <td>0.979573</td>\n",
       "      <td>0.0</td>\n",
       "      <td>1</td>\n",
       "      <td>0.990255</td>\n",
       "      <td>0.990255</td>\n",
       "      <td>0.0</td>\n",
       "      <td>1</td>\n",
       "      <td>3.845718</td>\n",
       "      <td>0.0</td>\n",
       "      <td>0.022975</td>\n",
       "      <td>0.0</td>\n",
       "      <td>{'bootstrap': True, 'criterion': 'entropy', 'm...</td>\n",
       "    </tr>\n",
       "    <tr>\n",
       "      <th>71</th>\n",
       "      <td>True</td>\n",
       "      <td>entropy</td>\n",
       "      <td>8</td>\n",
       "      <td>sqrt</td>\n",
       "      <td>82</td>\n",
       "      <td>213</td>\n",
       "      <td>73</td>\n",
       "      <td>0.979573</td>\n",
       "      <td>0.979573</td>\n",
       "      <td>0.0</td>\n",
       "      <td>1</td>\n",
       "      <td>0.990255</td>\n",
       "      <td>0.990255</td>\n",
       "      <td>0.0</td>\n",
       "      <td>1</td>\n",
       "      <td>3.832754</td>\n",
       "      <td>0.0</td>\n",
       "      <td>0.019985</td>\n",
       "      <td>0.0</td>\n",
       "      <td>{'bootstrap': True, 'criterion': 'entropy', 'm...</td>\n",
       "    </tr>\n",
       "  </tbody>\n",
       "</table>\n",
       "</div>"
      ],
      "text/plain": [
       "    param_bootstrap param_criterion  param_max_depth param_max_features  \\\n",
       "54             True         entropy                8               sqrt   \n",
       "72             True         entropy                8               sqrt   \n",
       "71             True         entropy                8               sqrt   \n",
       "\n",
       "    param_min_samples_leaf  param_min_samples_split  param_n_estimators  \\\n",
       "54                      82                      213                  73   \n",
       "72                      82                      213                  73   \n",
       "71                      82                      213                  73   \n",
       "\n",
       "    split0_test_score  mean_test_score  std_test_score  rank_test_score  \\\n",
       "54           0.979573         0.979573             0.0                1   \n",
       "72           0.979573         0.979573             0.0                1   \n",
       "71           0.979573         0.979573             0.0                1   \n",
       "\n",
       "    split0_train_score  mean_train_score  std_train_score  rank_train_score  \\\n",
       "54            0.990255          0.990255              0.0                 1   \n",
       "72            0.990255          0.990255              0.0                 1   \n",
       "71            0.990255          0.990255              0.0                 1   \n",
       "\n",
       "    mean_fit_time  std_fit_time  mean_score_time  std_score_time  \\\n",
       "54       3.946288           0.0         0.019909             0.0   \n",
       "72       3.845718           0.0         0.022975             0.0   \n",
       "71       3.832754           0.0         0.019985             0.0   \n",
       "\n",
       "                                               params  \n",
       "54  {'bootstrap': True, 'criterion': 'entropy', 'm...  \n",
       "72  {'bootstrap': True, 'criterion': 'entropy', 'm...  \n",
       "71  {'bootstrap': True, 'criterion': 'entropy', 'm...  "
      ]
     },
     "execution_count": 34,
     "metadata": {},
     "output_type": "execute_result"
    }
   ],
   "source": [
    "results = pd.DataFrame(RF_GA_search.cv_results_).sort_values(by = 'rank_test_score')\n",
    "results.head(3)"
   ]
  },
  {
   "cell_type": "code",
   "execution_count": 35,
   "metadata": {},
   "outputs": [
    {
     "data": {
      "text/html": [
       "<div>\n",
       "<style scoped>\n",
       "    .dataframe tbody tr th:only-of-type {\n",
       "        vertical-align: middle;\n",
       "    }\n",
       "\n",
       "    .dataframe tbody tr th {\n",
       "        vertical-align: top;\n",
       "    }\n",
       "\n",
       "    .dataframe thead th {\n",
       "        text-align: right;\n",
       "    }\n",
       "</style>\n",
       "<table border=\"1\" class=\"dataframe\">\n",
       "  <thead>\n",
       "    <tr style=\"text-align: right;\">\n",
       "      <th></th>\n",
       "      <th>mean_test_score</th>\n",
       "      <th>std_test_score</th>\n",
       "      <th>mean_train_score</th>\n",
       "      <th>std_train_score</th>\n",
       "    </tr>\n",
       "  </thead>\n",
       "  <tbody>\n",
       "    <tr>\n",
       "      <th>0</th>\n",
       "      <td>0.913448</td>\n",
       "      <td>0.0</td>\n",
       "      <td>0.955826</td>\n",
       "      <td>0.0</td>\n",
       "    </tr>\n",
       "    <tr>\n",
       "      <th>1</th>\n",
       "      <td>0.962540</td>\n",
       "      <td>0.0</td>\n",
       "      <td>0.980695</td>\n",
       "      <td>0.0</td>\n",
       "    </tr>\n",
       "    <tr>\n",
       "      <th>2</th>\n",
       "      <td>0.960713</td>\n",
       "      <td>0.0</td>\n",
       "      <td>0.984888</td>\n",
       "      <td>0.0</td>\n",
       "    </tr>\n",
       "    <tr>\n",
       "      <th>3</th>\n",
       "      <td>0.974172</td>\n",
       "      <td>0.0</td>\n",
       "      <td>0.989446</td>\n",
       "      <td>0.0</td>\n",
       "    </tr>\n",
       "    <tr>\n",
       "      <th>4</th>\n",
       "      <td>0.915130</td>\n",
       "      <td>0.0</td>\n",
       "      <td>0.968128</td>\n",
       "      <td>0.0</td>\n",
       "    </tr>\n",
       "  </tbody>\n",
       "</table>\n",
       "</div>"
      ],
      "text/plain": [
       "   mean_test_score  std_test_score  mean_train_score  std_train_score\n",
       "0         0.913448             0.0          0.955826              0.0\n",
       "1         0.962540             0.0          0.980695              0.0\n",
       "2         0.960713             0.0          0.984888              0.0\n",
       "3         0.974172             0.0          0.989446              0.0\n",
       "4         0.915130             0.0          0.968128              0.0"
      ]
     },
     "execution_count": 35,
     "metadata": {},
     "output_type": "execute_result"
    }
   ],
   "source": [
    "results_cv2 = pd.DataFrame(RF_GA_search.cv_results_)\n",
    "results_cv2  = results_cv2[['mean_test_score', 'std_test_score', 'mean_train_score', 'std_train_score']]\n",
    "# plot_learning_curve_cross_validation(results_cv2, \"RF learning curve - GASearchCV\")\n",
    "results_cv2.head()"
   ]
  },
  {
   "cell_type": "code",
   "execution_count": 61,
   "metadata": {},
   "outputs": [
    {
     "data": {
      "image/png": "[encoded data removed]",
      "text/plain": [
       "<Figure size 720x432 with 1 Axes>"
      ]
     },
     "metadata": {},
     "output_type": "display_data"
    }
   ],
   "source": [
    "cv = StratifiedShuffleSplit(n_splits=5, test_size=0.25, random_state=36)\n",
    "\n",
    "g = plot_learning_curve(RF_best,metric,\"Random Forest learning curves\",X_train_3, y_train,cv=cv)"
   ]
  },
  {
   "attachments": {},
   "cell_type": "markdown",
   "metadata": {},
   "source": [
    "Curva ROC-AUC"
   ]
  },
  {
   "cell_type": "code",
   "execution_count": 37,
   "metadata": {},
   "outputs": [],
   "source": [
    "def plot_roc(model, l):\n",
    "    #fit logistic regression model and plot ROC curve\n",
    "    model.fit(X_train_3, y_train)\n",
    "    y_pred = model.predict_proba(X_test_3)[:, 1]\n",
    "    fpr, tpr, _ = metrics.roc_curve(y_test, y_pred)\n",
    "    auc = round(metrics.roc_auc_score(y_test, y_pred), 4)\n",
    "    plt.plot(fpr,tpr,label=l+ \" , AUC=\"+str(auc))"
   ]
  },
  {
   "cell_type": "code",
   "execution_count": 38,
   "metadata": {},
   "outputs": [
    {
     "data": {
      "text/plain": [
       "<matplotlib.legend.Legend at 0x289207eebe0>"
      ]
     },
     "execution_count": 38,
     "metadata": {},
     "output_type": "execute_result"
    },
    {
     "data": {
      "image/png": "[encoded data removed]",
      "text/plain": [
       "<Figure size 720x432 with 1 Axes>"
      ]
     },
     "metadata": {},
     "output_type": "display_data"
    }
   ],
   "source": [
    "labels = ['RF']\n",
    "models = [RF_best]\n",
    "\n",
    "#set up plotting area\n",
    "\n",
    "plt.figure(figsize=(10, 6)).clf()\n",
    "\n",
    "for i, j in enumerate(models):\n",
    "\n",
    "    plot_roc(j, labels[i])\n",
    "\n",
    "\n",
    "#add legend\n",
    "plt.legend()"
   ]
  },
  {
   "cell_type": "code",
   "execution_count": 39,
   "metadata": {},
   "outputs": [],
   "source": [
    "y_pred = RF_best.predict_proba(X_train_3)"
   ]
  },
  {
   "cell_type": "code",
   "execution_count": 40,
   "metadata": {},
   "outputs": [
    {
     "data": {
      "text/plain": [
       "array([[0.43730071, 0.56269929],\n",
       "       [0.48993109, 0.51006891],\n",
       "       [0.49768159, 0.50231841],\n",
       "       ...,\n",
       "       [0.18820001, 0.81179999],\n",
       "       [0.12811509, 0.87188491],\n",
       "       [0.16357295, 0.83642705]])"
      ]
     },
     "execution_count": 40,
     "metadata": {},
     "output_type": "execute_result"
    }
   ],
   "source": [
    "y_pred "
   ]
  },
  {
   "cell_type": "code",
   "execution_count": 41,
   "metadata": {},
   "outputs": [],
   "source": [
    "inferencia = pd.DataFrame(y_pred, columns=[\"NORMAL\", \"PNEUMONIA\"])"
   ]
  },
  {
   "cell_type": "code",
   "execution_count": 42,
   "metadata": {},
   "outputs": [],
   "source": [
    "inferencia['y'] = np.array(y_train)"
   ]
  },
  {
   "cell_type": "code",
   "execution_count": 57,
   "metadata": {},
   "outputs": [
    {
     "data": {
      "image/png": "[encoded data removed]",
      "text/plain": [
       "<Figure size 720x432 with 1 Axes>"
      ]
     },
     "metadata": {},
     "output_type": "display_data"
    }
   ],
   "source": [
    "plt.figure(figsize=(10, 6))\n",
    "g = sns.kdeplot(inferencia[\"PNEUMONIA\"][(inferencia[\"y\"] == 0) & (inferencia[\"y\"].notnull())], color=\"Blue\", shade = True)\n",
    "g = sns.kdeplot(inferencia[\"PNEUMONIA\"][(inferencia[\"y\"] == 1) & (inferencia[\"y\"].notnull())], ax =g, color=\"Red\", shade= True)\n",
    "g.set_xlabel(\"Probabilidades\")\n",
    "g.set_ylabel(\"Frequência\")\n",
    "g = g.legend([\"NORMAL\", \"PNEUMONIA\"])\n",
    "plt.show()"
   ]
  },
  {
   "cell_type": "code",
   "execution_count": 44,
   "metadata": {},
   "outputs": [],
   "source": [
    "y_pred = RF_best.predict_proba(X_train_3)\n",
    "y_pred = pd.DataFrame(y_pred, columns=[\"NORMAL\", \"PNEUMONIA\"])\n",
    "y_pred_opt = y_pred.PNEUMONIA.apply(lambda x: 1 if x>=0.77 else 0)"
   ]
  },
  {
   "cell_type": "code",
   "execution_count": 45,
   "metadata": {},
   "outputs": [
    {
     "name": "stdout",
     "output_type": "stream",
     "text": [
      "Classification Report: \n",
      "               precision    recall  f1-score   support\n",
      "\n",
      "           0       0.70      0.99      0.82      1341\n",
      "           1       1.00      0.86      0.92      3875\n",
      "\n",
      "    accuracy                           0.89      5216\n",
      "   macro avg       0.85      0.92      0.87      5216\n",
      "weighted avg       0.92      0.89      0.90      5216\n",
      "\n",
      "Gini:  0.8460761588607442\n",
      "ROC AUC::  0.9230380794303721\n"
     ]
    },
    {
     "data": {
      "image/png": "[encoded data removed]",
      "text/plain": [
       "<Figure size 576x432 with 2 Axes>"
      ]
     },
     "metadata": {},
     "output_type": "display_data"
    }
   ],
   "source": [
    "cm = confusion_matrix(y_train, y_pred_opt)\n",
    "cm_df = pd.DataFrame(cm)                      \n",
    "plt.figure(figsize=(8,6))  \n",
    "sns.heatmap(cm_df, annot=True)\n",
    "print(\"Classification Report: \\n\", classification_report(y_train, y_pred_opt))  \n",
    "\n",
    "\n",
    "roc_auc = roc_auc_score(y_train, y_pred_opt, multi_class = 'ovr', average=None)\n",
    "gini = 2*roc_auc -1\n",
    "print(\"Gini: \",gini)\n",
    "print(\"ROC AUC:: \",roc_auc)"
   ]
  },
  {
   "cell_type": "code",
   "execution_count": 46,
   "metadata": {},
   "outputs": [
    {
     "data": {
      "text/plain": [
       "array([[1327,   14],\n",
       "       [ 556, 3319]], dtype=int64)"
      ]
     },
     "execution_count": 46,
     "metadata": {},
     "output_type": "execute_result"
    }
   ],
   "source": [
    "confusion_matrix(y_train, y_pred_opt)"
   ]
  },
  {
   "cell_type": "code",
   "execution_count": 47,
   "metadata": {},
   "outputs": [],
   "source": [
    "# fit_and_print(RF_best, X_val)"
   ]
  },
  {
   "cell_type": "code",
   "execution_count": 48,
   "metadata": {},
   "outputs": [],
   "source": [
    "y_pred = RF_best.predict_proba(X_test_3)\n",
    "y_pred = pd.DataFrame(y_pred, columns=[\"NORMAL\", \"PNEUMONIA\"])\n",
    "y_pred_opt = y_pred.PNEUMONIA.apply(lambda x: 1 if x>=0.77 else 0)"
   ]
  },
  {
   "cell_type": "code",
   "execution_count": 49,
   "metadata": {},
   "outputs": [
    {
     "data": {
      "text/html": [
       "<div>\n",
       "<style scoped>\n",
       "    .dataframe tbody tr th:only-of-type {\n",
       "        vertical-align: middle;\n",
       "    }\n",
       "\n",
       "    .dataframe tbody tr th {\n",
       "        vertical-align: top;\n",
       "    }\n",
       "\n",
       "    .dataframe thead th {\n",
       "        text-align: right;\n",
       "    }\n",
       "</style>\n",
       "<table border=\"1\" class=\"dataframe\">\n",
       "  <thead>\n",
       "    <tr style=\"text-align: right;\">\n",
       "      <th></th>\n",
       "      <th>NORMAL</th>\n",
       "      <th>PNEUMONIA</th>\n",
       "    </tr>\n",
       "  </thead>\n",
       "  <tbody>\n",
       "    <tr>\n",
       "      <th>0</th>\n",
       "      <td>0.411951</td>\n",
       "      <td>0.588049</td>\n",
       "    </tr>\n",
       "    <tr>\n",
       "      <th>1</th>\n",
       "      <td>0.498928</td>\n",
       "      <td>0.501072</td>\n",
       "    </tr>\n",
       "    <tr>\n",
       "      <th>2</th>\n",
       "      <td>0.265758</td>\n",
       "      <td>0.734242</td>\n",
       "    </tr>\n",
       "    <tr>\n",
       "      <th>3</th>\n",
       "      <td>0.422755</td>\n",
       "      <td>0.577245</td>\n",
       "    </tr>\n",
       "    <tr>\n",
       "      <th>4</th>\n",
       "      <td>0.385728</td>\n",
       "      <td>0.614272</td>\n",
       "    </tr>\n",
       "    <tr>\n",
       "      <th>...</th>\n",
       "      <td>...</td>\n",
       "      <td>...</td>\n",
       "    </tr>\n",
       "    <tr>\n",
       "      <th>619</th>\n",
       "      <td>0.191930</td>\n",
       "      <td>0.808070</td>\n",
       "    </tr>\n",
       "    <tr>\n",
       "      <th>620</th>\n",
       "      <td>0.191444</td>\n",
       "      <td>0.808556</td>\n",
       "    </tr>\n",
       "    <tr>\n",
       "      <th>621</th>\n",
       "      <td>0.182273</td>\n",
       "      <td>0.817727</td>\n",
       "    </tr>\n",
       "    <tr>\n",
       "      <th>622</th>\n",
       "      <td>0.186592</td>\n",
       "      <td>0.813408</td>\n",
       "    </tr>\n",
       "    <tr>\n",
       "      <th>623</th>\n",
       "      <td>0.207835</td>\n",
       "      <td>0.792165</td>\n",
       "    </tr>\n",
       "  </tbody>\n",
       "</table>\n",
       "<p>624 rows × 2 columns</p>\n",
       "</div>"
      ],
      "text/plain": [
       "       NORMAL  PNEUMONIA\n",
       "0    0.411951   0.588049\n",
       "1    0.498928   0.501072\n",
       "2    0.265758   0.734242\n",
       "3    0.422755   0.577245\n",
       "4    0.385728   0.614272\n",
       "..        ...        ...\n",
       "619  0.191930   0.808070\n",
       "620  0.191444   0.808556\n",
       "621  0.182273   0.817727\n",
       "622  0.186592   0.813408\n",
       "623  0.207835   0.792165\n",
       "\n",
       "[624 rows x 2 columns]"
      ]
     },
     "execution_count": 49,
     "metadata": {},
     "output_type": "execute_result"
    }
   ],
   "source": [
    "y_pred"
   ]
  },
  {
   "cell_type": "code",
   "execution_count": 50,
   "metadata": {},
   "outputs": [
    {
     "data": {
      "text/plain": [
       "1    388\n",
       "0    236\n",
       "Name: PNEUMONIA, dtype: int64"
      ]
     },
     "execution_count": 50,
     "metadata": {},
     "output_type": "execute_result"
    }
   ],
   "source": [
    "y_pred_opt.value_counts()"
   ]
  },
  {
   "cell_type": "code",
   "execution_count": 51,
   "metadata": {},
   "outputs": [
    {
     "data": {
      "text/plain": [
       "0      0.588049\n",
       "1      0.501072\n",
       "2      0.734242\n",
       "3      0.577245\n",
       "4      0.614272\n",
       "         ...   \n",
       "619    0.808070\n",
       "620    0.808556\n",
       "621    0.817727\n",
       "622    0.813408\n",
       "623    0.792165\n",
       "Name: PNEUMONIA, Length: 624, dtype: float64"
      ]
     },
     "execution_count": 51,
     "metadata": {},
     "output_type": "execute_result"
    }
   ],
   "source": [
    "y_pred.PNEUMONIA"
   ]
  },
  {
   "cell_type": "code",
   "execution_count": 52,
   "metadata": {},
   "outputs": [
    {
     "name": "stdout",
     "output_type": "stream",
     "text": [
      "Classification Report: \n",
      "               precision    recall  f1-score   support\n",
      "\n",
      "           0       0.74      0.75      0.74       234\n",
      "           1       0.85      0.84      0.85       390\n",
      "\n",
      "    accuracy                           0.81       624\n",
      "   macro avg       0.79      0.80      0.80       624\n",
      "weighted avg       0.81      0.81      0.81       624\n",
      "\n",
      "Gini:  0.5914529914529916\n",
      "ROC AUC::  0.7957264957264958\n"
     ]
    },
    {
     "data": {
      "image/png": "[encoded data removed]",
      "text/plain": [
       "<Figure size 576x432 with 2 Axes>"
      ]
     },
     "metadata": {},
     "output_type": "display_data"
    }
   ],
   "source": [
    "cm = confusion_matrix(y_test, y_pred_opt)\n",
    "cm_df = pd.DataFrame(cm)                      \n",
    "plt.figure(figsize=(8,6))  \n",
    "sns.heatmap(cm_df, annot=True)\n",
    "print(\"Classification Report: \\n\", classification_report(y_test, y_pred_opt))  \n",
    "\n",
    "\n",
    "roc_auc = roc_auc_score(y_test, y_pred_opt, multi_class = 'ovr', average=None)\n",
    "gini = 2*roc_auc -1\n",
    "print(\"Gini: \",gini)\n",
    "print(\"ROC AUC:: \",roc_auc)"
   ]
  },
  {
   "cell_type": "code",
   "execution_count": 53,
   "metadata": {},
   "outputs": [
    {
     "data": {
      "text/plain": [
       "array([[175,  59],\n",
       "       [ 61, 329]], dtype=int64)"
      ]
     },
     "execution_count": 53,
     "metadata": {},
     "output_type": "execute_result"
    }
   ],
   "source": [
    "confusion_matrix(y_test, y_pred_opt)"
   ]
  },
  {
   "attachments": {},
   "cell_type": "markdown",
   "metadata": {},
   "source": [
    "base de validação"
   ]
  },
  {
   "cell_type": "code",
   "execution_count": 54,
   "metadata": {},
   "outputs": [],
   "source": [
    "y_pred = RF_best.predict_proba(X_val_3)\n",
    "y_pred = pd.DataFrame(y_pred, columns=[\"NORMAL\", \"PNEUMONIA\"])\n",
    "y_pred_opt = y_pred.PNEUMONIA.apply(lambda x: 1 if x>=0.77 else 0)"
   ]
  },
  {
   "cell_type": "code",
   "execution_count": 55,
   "metadata": {},
   "outputs": [
    {
     "name": "stdout",
     "output_type": "stream",
     "text": [
      "Classification Report: \n",
      "               precision    recall  f1-score   support\n",
      "\n",
      "           0       0.88      0.88      0.88         8\n",
      "           1       0.88      0.88      0.88         8\n",
      "\n",
      "    accuracy                           0.88        16\n",
      "   macro avg       0.88      0.88      0.88        16\n",
      "weighted avg       0.88      0.88      0.88        16\n",
      "\n",
      "Gini:  0.75\n",
      "ROC AUC::  0.875\n"
     ]
    },
    {
     "data": {
      "image/png": "[encoded data removed]",
      "text/plain": [
       "<Figure size 576x432 with 2 Axes>"
      ]
     },
     "metadata": {},
     "output_type": "display_data"
    }
   ],
   "source": [
    "cm = confusion_matrix(y_val, y_pred_opt)\n",
    "cm_df = pd.DataFrame(cm)                      \n",
    "plt.figure(figsize=(8,6))  \n",
    "sns.heatmap(cm_df, annot=True)\n",
    "print(\"Classification Report: \\n\", classification_report(y_val, y_pred_opt))  \n",
    "\n",
    "\n",
    "roc_auc = roc_auc_score(y_val, y_pred_opt, multi_class = 'ovr', average=None)\n",
    "gini = 2*roc_auc -1\n",
    "print(\"Gini: \",gini)\n",
    "print(\"ROC AUC:: \",roc_auc)"
   ]
  },
  {
   "cell_type": "code",
   "execution_count": null,
   "metadata": {},
   "outputs": [],
   "source": []
  },
  {
   "cell_type": "code",
   "execution_count": 56,
   "metadata": {},
   "outputs": [
    {
     "data": {
      "text/plain": [
       "['random_forest_resnet_images.sav']"
      ]
     },
     "execution_count": 56,
     "metadata": {},
     "output_type": "execute_result"
    }
   ],
   "source": [
    "import pickle\n",
    "pickle.dump(pca, open( \"pca.pickle\", \"wb\" ))\n",
    "pickle.dump(std, open( \"std.pickle\", \"wb\" ))\n",
    "\n",
    "import joblib\n",
    "filename = 'random_forest_resnet_images.sav'\n",
    "joblib.dump(RF_best, filename)"
   ]
  },
  {
   "cell_type": "code",
   "execution_count": null,
   "metadata": {},
   "outputs": [],
   "source": []
  }
 ],
 "metadata": {
  "kernelspec": {
   "display_name": "Python 3",
   "language": "python",
   "name": "python3"
  },
  "language_info": {
   "codemirror_mode": {
    "name": "ipython",
    "version": 3
   },
   "file_extension": ".py",
   "mimetype": "text/x-python",
   "name": "python",
   "nbconvert_exporter": "python",
   "pygments_lexer": "ipython3",
   "version": "3.9.12"
  }
 },
 "nbformat": 4,
 "nbformat_minor": 2
}
