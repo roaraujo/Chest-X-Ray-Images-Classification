{
 "cells": [
  {
   "attachments": {},
   "cell_type": "markdown",
   "metadata": {},
   "source": [
    "# Modelagem"
   ]
  },
  {
   "attachments": {},
   "cell_type": "markdown",
   "metadata": {},
   "source": [
    "### Bibliotecas"
   ]
  },
  {
   "cell_type": "code",
   "execution_count": 2,
   "metadata": {},
   "outputs": [
    {
     "name": "stderr",
     "output_type": "stream",
     "text": [
      "c:\\Anaconda\\envs\\artigo\\lib\\site-packages\\tqdm\\auto.py:22: TqdmWarning: IProgress not found. Please update jupyter and ipywidgets. See https://ipywidgets.readthedocs.io/en/stable/user_install.html\n",
      "  from .autonotebook import tqdm as notebook_tqdm\n"
     ]
    }
   ],
   "source": [
    "from os import listdir\n",
    "from pickle import dump\n",
    "import keras\n",
    "# from keras.applications.vgg16 import VGG16\n",
    "# from keras.preprocessing.image import load_img\n",
    "from tensorflow.keras.utils import load_img\n",
    "# from keras.preprocessing.image import img_to_array\n",
    "from tensorflow.keras.utils import img_to_array\n",
    "# from keras.applications import  resnet50\n",
    "# from keras.applications import resnet\n",
    "# from tensorflow.python.keras.applications.resnet import ResNet50 as resnet50\n",
    "from tensorflow.keras.applications import ResNet50\n",
    "from keras.models import Model\n",
    "import os\n",
    "from PIL import Image\n",
    "import pandas as pd\n",
    "\n",
    "import tqdm\n",
    "import matplotlib.pyplot as plt\n",
    "import random \n",
    "import tensorflow\n",
    "import numpy.core.multiarray\n",
    "import numpy as np # linear algebra\n",
    "import pandas as pd # data processing, CSV file I/O (e.g. pd.read_csv)\n",
    "# import cv2\n",
    "import matplotlib.pyplot as plt\n",
    "import tensorflow as tf\n",
    "from tensorflow.keras.models import Sequential\n",
    "from tensorflow.keras.layers import Dense, Flatten, Dropout, Activation, Conv2D, MaxPooling2D\n",
    "from sklearn.model_selection import RepeatedStratifiedKFold, LeaveOneOut, StratifiedShuffleSplit\n",
    "\n",
    "from keras.models import load_model\n",
    "\n",
    "import sklearn\n",
    "import subprocess\n",
    "import time\n",
    "# import PIL\n",
    "import seaborn as sns\n",
    "sns.set_style('whitegrid')\n",
    "sns.set_context('notebook')\n",
    "\n",
    "\n",
    "\n",
    "from lightgbm import LGBMClassifier\n",
    "\n",
    "from sklearn.preprocessing import PolynomialFeatures\n",
    "from sklearn import metrics\n",
    "from sklearn.linear_model import LinearRegression\n",
    "from sklearn.linear_model import LogisticRegression\n",
    "from sklearn.naive_bayes import GaussianNB\n",
    "from sklearn.tree import DecisionTreeClassifier\n",
    "from sklearn.ensemble import GradientBoostingClassifier\n",
    "from sklearn.neighbors import KNeighborsClassifier\n",
    "from sklearn.ensemble import RandomForestClassifier\n",
    "from sklearn.neural_network import MLPClassifier\n",
    "from sklearn.svm import SVC\n",
    "from sklearn.model_selection import GridSearchCV\n",
    "from sklearn.metrics  import auc, roc_curve, roc_auc_score\n",
    "\n",
    "from sklearn.model_selection import train_test_split\n",
    "\n",
    "from sklearn.preprocessing import StandardScaler\n",
    "from sklearn.decomposition import PCA\n",
    "from sklearn_genetic import GASearchCV\n",
    "from sklearn_genetic.space import Continuous, Categorical, Integer\n",
    "from sklearn_genetic.plots import plot_fitness_evolution\n",
    "\n",
    "import time\n",
    "from sklearn.metrics  import average_precision_score, make_scorer, roc_curve,f1_score, precision_score, recall_score, fbeta_score, auc, roc_auc_score, accuracy_score, confusion_matrix, classification_report,precision_recall_curve\n",
    "\n",
    "\n",
    "import matplotlib.pyplot as plt\n",
    "from sklearn.model_selection import learning_curve"
   ]
  },
  {
   "attachments": {},
   "cell_type": "markdown",
   "metadata": {},
   "source": [
    "### Funções auxiliares"
   ]
  },
  {
   "cell_type": "code",
   "execution_count": 28,
   "metadata": {},
   "outputs": [],
   "source": [
    "def fit_and_print(model, X_test):\n",
    "    y_pred = model.predict(X_test)\n",
    "    cm = confusion_matrix(y_test, y_pred)\n",
    "    cm_df = pd.DataFrame(cm)                      \n",
    "    plt.figure(figsize=(8,6))  \n",
    "    sns.heatmap(cm_df, annot=True)\n",
    "    print(\"Classification Report: \\n\", classification_report(y_test, y_pred))  \n",
    "\n",
    "\n",
    "    roc_auc = roc_auc_score(y_test, y_pred, multi_class = 'ovr', average=None)\n",
    "    gini = 2*roc_auc -1\n",
    "    print(\"Gini: \",gini)\n",
    "    print(\"ROC AUC:: \",roc_auc)\n",
    "    \n",
    "    \n",
    "\n",
    "\n",
    "def plot_learning_curve(estimator, title, X, y, ylim=None, cv=None,\n",
    "                        n_jobs=-1, train_sizes=np.linspace(.1, 1.0, 5)):\n",
    "    \"\"\"Generate a simple plot of the test and training learning curve\"\"\"\n",
    "    plt.figure(figsize=(10, 6))\n",
    "    plt.title(title)\n",
    "    if ylim is not None:\n",
    "        plt.ylim(*ylim)\n",
    "    plt.xlabel(\"Training\")\n",
    "    plt.ylabel(\"Score\")\n",
    "    train_sizes, train_scores, test_scores = learning_curve(\n",
    "        estimator, X, y, cv=cv, n_jobs=n_jobs, train_sizes=train_sizes)\n",
    "    train_scores_mean = np.mean(train_scores, axis=1)\n",
    "    train_scores_std = np.std(train_scores, axis=1)\n",
    "    test_scores_mean = np.mean(test_scores, axis=1)\n",
    "    test_scores_std = np.std(test_scores, axis=1)\n",
    "    plt.grid()\n",
    "\n",
    "    plt.fill_between(train_sizes, train_scores_mean - train_scores_std,\n",
    "                     train_scores_mean + train_scores_std, alpha=0.1,\n",
    "                     color=\"r\")\n",
    "    plt.fill_between(train_sizes, test_scores_mean - test_scores_std,\n",
    "                     test_scores_mean + test_scores_std, alpha=0.1, color=\"g\")\n",
    "    plt.plot(train_sizes, train_scores_mean, 'o-', color=\"r\",\n",
    "             label=\"Training score\")\n",
    "    plt.plot(train_sizes, test_scores_mean, 'o-', color=\"g\",\n",
    "             label=\"Cross-validation score\")\n",
    "\n",
    "    plt.legend(loc=\"best\")\n",
    "    return plt"
   ]
  },
  {
   "attachments": {},
   "cell_type": "markdown",
   "metadata": {},
   "source": [
    "### Leitura dos dados"
   ]
  },
  {
   "cell_type": "code",
   "execution_count": 4,
   "metadata": {},
   "outputs": [],
   "source": [
    "train_normal = pd.read_csv('data/features_train_NORMAL.csv') \n",
    "train_pneumonia = pd.read_csv('data/features_train_PNEUMONIA.csv') \n",
    "test_normal = pd.read_csv('data/features_test_NORMAL.csv') \n",
    "test_pneumonia = pd.read_csv('data/features_test_PNEUMONIA.csv') \n",
    "val_normal = pd.read_csv('data/features_val_NORMAL.csv') \n",
    "val_pneumonia = pd.read_csv('data/features_val_PNEUMONIA.csv')"
   ]
  },
  {
   "cell_type": "code",
   "execution_count": 5,
   "metadata": {},
   "outputs": [
    {
     "data": {
      "text/html": [
       "<div>\n",
       "<style scoped>\n",
       "    .dataframe tbody tr th:only-of-type {\n",
       "        vertical-align: middle;\n",
       "    }\n",
       "\n",
       "    .dataframe tbody tr th {\n",
       "        vertical-align: top;\n",
       "    }\n",
       "\n",
       "    .dataframe thead th {\n",
       "        text-align: right;\n",
       "    }\n",
       "</style>\n",
       "<table border=\"1\" class=\"dataframe\">\n",
       "  <thead>\n",
       "    <tr style=\"text-align: right;\">\n",
       "      <th></th>\n",
       "      <th>0</th>\n",
       "      <th>1</th>\n",
       "      <th>2</th>\n",
       "      <th>3</th>\n",
       "      <th>4</th>\n",
       "      <th>5</th>\n",
       "      <th>6</th>\n",
       "      <th>7</th>\n",
       "      <th>8</th>\n",
       "      <th>9</th>\n",
       "      <th>...</th>\n",
       "      <th>990</th>\n",
       "      <th>991</th>\n",
       "      <th>992</th>\n",
       "      <th>993</th>\n",
       "      <th>994</th>\n",
       "      <th>995</th>\n",
       "      <th>996</th>\n",
       "      <th>997</th>\n",
       "      <th>998</th>\n",
       "      <th>999</th>\n",
       "    </tr>\n",
       "  </thead>\n",
       "  <tbody>\n",
       "    <tr>\n",
       "      <th>0</th>\n",
       "      <td>8.030253e-07</td>\n",
       "      <td>0.000009</td>\n",
       "      <td>0.000017</td>\n",
       "      <td>0.000724</td>\n",
       "      <td>0.000036</td>\n",
       "      <td>1.137662e-06</td>\n",
       "      <td>7.585679e-06</td>\n",
       "      <td>1.365604e-07</td>\n",
       "      <td>4.690241e-07</td>\n",
       "      <td>3.792116e-07</td>\n",
       "      <td>...</td>\n",
       "      <td>3.977842e-07</td>\n",
       "      <td>1.843780e-07</td>\n",
       "      <td>2.469885e-08</td>\n",
       "      <td>8.963966e-09</td>\n",
       "      <td>1.305061e-07</td>\n",
       "      <td>1.066745e-07</td>\n",
       "      <td>6.338824e-07</td>\n",
       "      <td>1.134629e-08</td>\n",
       "      <td>0.000153</td>\n",
       "      <td>0.000870</td>\n",
       "    </tr>\n",
       "    <tr>\n",
       "      <th>1</th>\n",
       "      <td>8.543582e-06</td>\n",
       "      <td>0.000136</td>\n",
       "      <td>0.000035</td>\n",
       "      <td>0.002230</td>\n",
       "      <td>0.000114</td>\n",
       "      <td>4.040247e-06</td>\n",
       "      <td>1.052312e-05</td>\n",
       "      <td>4.133533e-05</td>\n",
       "      <td>4.052147e-06</td>\n",
       "      <td>2.338420e-06</td>\n",
       "      <td>...</td>\n",
       "      <td>1.463699e-06</td>\n",
       "      <td>4.915610e-07</td>\n",
       "      <td>3.352001e-07</td>\n",
       "      <td>9.594637e-08</td>\n",
       "      <td>3.922321e-06</td>\n",
       "      <td>1.910834e-06</td>\n",
       "      <td>3.039644e-05</td>\n",
       "      <td>7.112688e-08</td>\n",
       "      <td>0.000108</td>\n",
       "      <td>0.000347</td>\n",
       "    </tr>\n",
       "    <tr>\n",
       "      <th>2</th>\n",
       "      <td>4.860348e-07</td>\n",
       "      <td>0.000003</td>\n",
       "      <td>0.000031</td>\n",
       "      <td>0.001357</td>\n",
       "      <td>0.000041</td>\n",
       "      <td>2.204841e-07</td>\n",
       "      <td>3.746792e-07</td>\n",
       "      <td>6.930670e-08</td>\n",
       "      <td>4.367935e-08</td>\n",
       "      <td>6.756602e-08</td>\n",
       "      <td>...</td>\n",
       "      <td>1.171786e-07</td>\n",
       "      <td>6.659896e-09</td>\n",
       "      <td>3.649183e-09</td>\n",
       "      <td>2.374704e-09</td>\n",
       "      <td>2.867081e-08</td>\n",
       "      <td>4.006484e-08</td>\n",
       "      <td>7.181430e-07</td>\n",
       "      <td>6.823269e-09</td>\n",
       "      <td>0.000023</td>\n",
       "      <td>0.000030</td>\n",
       "    </tr>\n",
       "    <tr>\n",
       "      <th>3</th>\n",
       "      <td>1.596785e-06</td>\n",
       "      <td>0.000008</td>\n",
       "      <td>0.000004</td>\n",
       "      <td>0.000374</td>\n",
       "      <td>0.000020</td>\n",
       "      <td>4.659951e-08</td>\n",
       "      <td>5.733667e-07</td>\n",
       "      <td>7.739556e-08</td>\n",
       "      <td>7.139975e-08</td>\n",
       "      <td>3.411960e-08</td>\n",
       "      <td>...</td>\n",
       "      <td>6.221602e-08</td>\n",
       "      <td>5.327104e-09</td>\n",
       "      <td>1.708283e-08</td>\n",
       "      <td>7.948706e-10</td>\n",
       "      <td>2.329523e-08</td>\n",
       "      <td>1.155800e-08</td>\n",
       "      <td>3.170211e-07</td>\n",
       "      <td>1.690163e-08</td>\n",
       "      <td>0.000148</td>\n",
       "      <td>0.002563</td>\n",
       "    </tr>\n",
       "    <tr>\n",
       "      <th>4</th>\n",
       "      <td>3.259233e-06</td>\n",
       "      <td>0.000032</td>\n",
       "      <td>0.000062</td>\n",
       "      <td>0.006291</td>\n",
       "      <td>0.000078</td>\n",
       "      <td>8.776717e-07</td>\n",
       "      <td>5.650817e-06</td>\n",
       "      <td>2.229028e-05</td>\n",
       "      <td>6.193986e-06</td>\n",
       "      <td>1.380488e-06</td>\n",
       "      <td>...</td>\n",
       "      <td>2.914699e-07</td>\n",
       "      <td>1.114175e-06</td>\n",
       "      <td>5.342975e-07</td>\n",
       "      <td>9.735795e-08</td>\n",
       "      <td>1.374624e-06</td>\n",
       "      <td>4.399171e-07</td>\n",
       "      <td>2.088362e-05</td>\n",
       "      <td>8.871561e-08</td>\n",
       "      <td>0.000017</td>\n",
       "      <td>0.000270</td>\n",
       "    </tr>\n",
       "  </tbody>\n",
       "</table>\n",
       "<p>5 rows × 1000 columns</p>\n",
       "</div>"
      ],
      "text/plain": [
       "              0         1         2         3         4             5  \\\n",
       "0  8.030253e-07  0.000009  0.000017  0.000724  0.000036  1.137662e-06   \n",
       "1  8.543582e-06  0.000136  0.000035  0.002230  0.000114  4.040247e-06   \n",
       "2  4.860348e-07  0.000003  0.000031  0.001357  0.000041  2.204841e-07   \n",
       "3  1.596785e-06  0.000008  0.000004  0.000374  0.000020  4.659951e-08   \n",
       "4  3.259233e-06  0.000032  0.000062  0.006291  0.000078  8.776717e-07   \n",
       "\n",
       "              6             7             8             9  ...           990  \\\n",
       "0  7.585679e-06  1.365604e-07  4.690241e-07  3.792116e-07  ...  3.977842e-07   \n",
       "1  1.052312e-05  4.133533e-05  4.052147e-06  2.338420e-06  ...  1.463699e-06   \n",
       "2  3.746792e-07  6.930670e-08  4.367935e-08  6.756602e-08  ...  1.171786e-07   \n",
       "3  5.733667e-07  7.739556e-08  7.139975e-08  3.411960e-08  ...  6.221602e-08   \n",
       "4  5.650817e-06  2.229028e-05  6.193986e-06  1.380488e-06  ...  2.914699e-07   \n",
       "\n",
       "            991           992           993           994           995  \\\n",
       "0  1.843780e-07  2.469885e-08  8.963966e-09  1.305061e-07  1.066745e-07   \n",
       "1  4.915610e-07  3.352001e-07  9.594637e-08  3.922321e-06  1.910834e-06   \n",
       "2  6.659896e-09  3.649183e-09  2.374704e-09  2.867081e-08  4.006484e-08   \n",
       "3  5.327104e-09  1.708283e-08  7.948706e-10  2.329523e-08  1.155800e-08   \n",
       "4  1.114175e-06  5.342975e-07  9.735795e-08  1.374624e-06  4.399171e-07   \n",
       "\n",
       "            996           997       998       999  \n",
       "0  6.338824e-07  1.134629e-08  0.000153  0.000870  \n",
       "1  3.039644e-05  7.112688e-08  0.000108  0.000347  \n",
       "2  7.181430e-07  6.823269e-09  0.000023  0.000030  \n",
       "3  3.170211e-07  1.690163e-08  0.000148  0.002563  \n",
       "4  2.088362e-05  8.871561e-08  0.000017  0.000270  \n",
       "\n",
       "[5 rows x 1000 columns]"
      ]
     },
     "execution_count": 5,
     "metadata": {},
     "output_type": "execute_result"
    }
   ],
   "source": [
    "train_normal.head()"
   ]
  },
  {
   "cell_type": "code",
   "execution_count": 6,
   "metadata": {},
   "outputs": [],
   "source": [
    "train_normal['Y'] = 0\n",
    "test_normal['Y'] = 0\n",
    "val_normal['Y'] = 0\n",
    "train_pneumonia['Y'] = 1\n",
    "test_pneumonia['Y'] = 1\n",
    "val_pneumonia['Y'] = 1"
   ]
  },
  {
   "cell_type": "code",
   "execution_count": 7,
   "metadata": {},
   "outputs": [
    {
     "data": {
      "text/plain": [
       "(5216, 1001)"
      ]
     },
     "execution_count": 7,
     "metadata": {},
     "output_type": "execute_result"
    }
   ],
   "source": [
    "train = pd.concat([train_normal, train_pneumonia], axis=0)\n",
    "train.shape"
   ]
  },
  {
   "cell_type": "code",
   "execution_count": 8,
   "metadata": {},
   "outputs": [
    {
     "data": {
      "text/plain": [
       "1    0.742906\n",
       "0    0.257094\n",
       "Name: Y, dtype: float64"
      ]
     },
     "execution_count": 8,
     "metadata": {},
     "output_type": "execute_result"
    }
   ],
   "source": [
    "train.Y.value_counts()/len(train)"
   ]
  },
  {
   "cell_type": "code",
   "execution_count": 9,
   "metadata": {},
   "outputs": [
    {
     "data": {
      "text/plain": [
       "(624, 1001)"
      ]
     },
     "execution_count": 9,
     "metadata": {},
     "output_type": "execute_result"
    }
   ],
   "source": [
    "test = pd.concat([test_normal, test_pneumonia], axis=0)\n",
    "test.shape"
   ]
  },
  {
   "cell_type": "code",
   "execution_count": 10,
   "metadata": {},
   "outputs": [
    {
     "data": {
      "text/plain": [
       "1    0.625\n",
       "0    0.375\n",
       "Name: Y, dtype: float64"
      ]
     },
     "execution_count": 10,
     "metadata": {},
     "output_type": "execute_result"
    }
   ],
   "source": [
    "test.Y.value_counts()/len(test)"
   ]
  },
  {
   "cell_type": "code",
   "execution_count": 11,
   "metadata": {},
   "outputs": [
    {
     "data": {
      "text/plain": [
       "(16, 1001)"
      ]
     },
     "execution_count": 11,
     "metadata": {},
     "output_type": "execute_result"
    }
   ],
   "source": [
    "val = pd.concat([val_normal, val_pneumonia], axis=0)\n",
    "val.shape"
   ]
  },
  {
   "cell_type": "code",
   "execution_count": 47,
   "metadata": {},
   "outputs": [
    {
     "data": {
      "text/plain": [
       "0    0.5\n",
       "1    0.5\n",
       "Name: Y, dtype: float64"
      ]
     },
     "execution_count": 47,
     "metadata": {},
     "output_type": "execute_result"
    }
   ],
   "source": [
    "val.Y.value_counts()/len(val)"
   ]
  },
  {
   "cell_type": "code",
   "execution_count": 12,
   "metadata": {},
   "outputs": [],
   "source": [
    "X_train = train.drop(['Y'], axis=1)\n",
    "y_train = train.Y"
   ]
  },
  {
   "cell_type": "code",
   "execution_count": 13,
   "metadata": {},
   "outputs": [],
   "source": [
    "X_test = test.drop(['Y'], axis=1)\n",
    "y_test = test.Y"
   ]
  },
  {
   "cell_type": "code",
   "execution_count": 14,
   "metadata": {},
   "outputs": [],
   "source": [
    "X_val = val.drop(['Y'], axis=1)\n",
    "y_val = val.Y"
   ]
  },
  {
   "attachments": {},
   "cell_type": "markdown",
   "metadata": {},
   "source": [
    "### Aplicando PCA nos dados"
   ]
  },
  {
   "cell_type": "code",
   "execution_count": 15,
   "metadata": {},
   "outputs": [],
   "source": [
    "# Standardizing the features\n",
    "std = StandardScaler()\n",
    "X_train_2 = std.fit_transform(X_train)\n",
    "X_test_2 = std.transform(X_test)\n",
    "X_val_2 = std.transform(X_val)"
   ]
  },
  {
   "cell_type": "code",
   "execution_count": 16,
   "metadata": {},
   "outputs": [
    {
     "data": {
      "text/plain": [
       "1000"
      ]
     },
     "execution_count": 16,
     "metadata": {},
     "output_type": "execute_result"
    }
   ],
   "source": [
    "len(X_test_2[0])"
   ]
  },
  {
   "cell_type": "code",
   "execution_count": 17,
   "metadata": {},
   "outputs": [],
   "source": [
    "pca = PCA(n_components=400)\n",
    "X_train_3 = pca.fit_transform(X_train_2)\n",
    "X_test_3 = pca.transform(X_test_2)\n",
    "X_val_3 = pca.transform(X_val_2)"
   ]
  },
  {
   "cell_type": "code",
   "execution_count": 18,
   "metadata": {},
   "outputs": [
    {
     "data": {
      "text/plain": [
       "400"
      ]
     },
     "execution_count": 18,
     "metadata": {},
     "output_type": "execute_result"
    }
   ],
   "source": [
    "len(X_test_3[0])"
   ]
  },
  {
   "cell_type": "code",
   "execution_count": 19,
   "metadata": {},
   "outputs": [
    {
     "data": {
      "text/plain": [
       "0.9064247189046704"
      ]
     },
     "execution_count": 19,
     "metadata": {},
     "output_type": "execute_result"
    }
   ],
   "source": [
    "pca.explained_variance_ratio_.sum()"
   ]
  },
  {
   "attachments": {},
   "cell_type": "markdown",
   "metadata": {},
   "source": [
    "### Random Forest"
   ]
  },
  {
   "attachments": {},
   "cell_type": "markdown",
   "metadata": {},
   "source": [
    "https://scikit-learn.org/stable/modules/generated/sklearn.ensemble.RandomForestClassifier.html"
   ]
  },
  {
   "cell_type": "code",
   "execution_count": 21,
   "metadata": {},
   "outputs": [],
   "source": [
    "RF = RandomForestClassifier(random_state = 35)\n",
    "# cv = RepeatedStratifiedKFold(n_splits=5, n_repeats=3)\n",
    "cv = StratifiedShuffleSplit(n_splits=1, test_size=0.25, random_state=36)\n",
    "\n",
    "# metric = \"accuracy\"\n",
    "metric = \"roc_auc\"\n",
    "\n",
    "RF_search_space = {\"bootstrap\": Categorical([True]), # values for boostrap can be either True or False\n",
    "        \"criterion\": Categorical([\"gini\", \"entropy\"]), #\"gini\"\n",
    "        \"max_depth\": Integer(4, 8),\n",
    "        \"max_features\": Categorical(['sqrt','log2']), \n",
    "        \"min_samples_leaf\": Integer(80, 150),\n",
    "        \"min_samples_split\": Integer(200, 350),\n",
    "        \"n_estimators\": Integer(20, 80)\n",
    "    }"
   ]
  },
  {
   "attachments": {},
   "cell_type": "markdown",
   "metadata": {},
   "source": [
    "### Genetic Algorithm"
   ]
  },
  {
   "cell_type": "code",
   "execution_count": 22,
   "metadata": {},
   "outputs": [
    {
     "name": "stdout",
     "output_type": "stream",
     "text": [
      "gen\tnevals\tfitness \tfitness_std\tfitness_max\tfitness_min\n",
      "0  \t8     \t0.940742\t0.0038759  \t0.947436   \t0.935585   \n",
      "1  \t15    \t0.946878\t0.00390305 \t0.950726   \t0.940939   \n",
      "2  \t15    \t0.949704\t0.00117939 \t0.950726   \t0.947242   \n",
      "3  \t15    \t0.950136\t0.000753617\t0.950726   \t0.949131   \n",
      "4  \t16    \t0.950726\t0          \t0.950726   \t0.950726   \n",
      "5  \t14    \t0.950726\t0          \t0.950726   \t0.950726   \n",
      "time train\n",
      "163.70820355415344\n",
      "Acc\n",
      "0.9507262449363092\n",
      "RandomForestClassifier(max_depth=6, min_samples_leaf=93, min_samples_split=218,\n",
      "                       n_estimators=41, random_state=35)\n",
      "{'bootstrap': True, 'criterion': 'gini', 'max_depth': 6, 'max_features': 'sqrt', 'min_samples_leaf': 93, 'min_samples_split': 218, 'n_estimators': 41}\n"
     ]
    }
   ],
   "source": [
    "#https://sklearn-genetic-opt.readthedocs.io/en/stable/api/gasearchcv.html\n",
    "\n",
    "RF_GA_search = GASearchCV(estimator=RF, param_grid=RF_search_space, return_train_score = True, \n",
    "                                    scoring=metric, n_jobs=-1, cv=cv,\n",
    "                                    population_size=8,\n",
    "                                    generations=5,\n",
    "                                    tournament_size=3,\n",
    "                                    elitism=True,\n",
    "                                    crossover_probability=0.8,\n",
    "                                    mutation_probability=0.1,\n",
    "                                    criteria='max',\n",
    "                                    algorithm='eaMuPlusLambda',\n",
    "                                    keep_top_k=1)\n",
    "\n",
    "inicio = time.time()\n",
    "RF_GA_search.fit(X_train_3, y_train) # callback=on_step will print score after each iteration\n",
    "fim = time.time()\n",
    "print(\"time train\")\n",
    "print(fim - inicio)\n",
    "print(\"Acc\")\n",
    "print(RF_GA_search.best_score_)\n",
    "RF_best = RF_GA_search.best_estimator_\n",
    "print(RF_GA_search.best_estimator_)\n",
    "print(RF_GA_search.best_params_)"
   ]
  },
  {
   "cell_type": "code",
   "execution_count": 25,
   "metadata": {},
   "outputs": [
    {
     "data": {
      "image/png": "[encoded data removed]",
      "text/plain": [
       "<Figure size 720x432 with 1 Axes>"
      ]
     },
     "metadata": {},
     "output_type": "display_data"
    }
   ],
   "source": [
    "# from sklearn_genetic.plots import plot_fitness_evolution\n",
    "plt.figure(figsize=(10, 6))\n",
    "plot = plot_fitness_evolution(RF_GA_search, metric=\"fitness\")\n",
    "plt.show()"
   ]
  },
  {
   "cell_type": "code",
   "execution_count": 26,
   "metadata": {},
   "outputs": [
    {
     "data": {
      "text/html": [
       "<div>\n",
       "<style scoped>\n",
       "    .dataframe tbody tr th:only-of-type {\n",
       "        vertical-align: middle;\n",
       "    }\n",
       "\n",
       "    .dataframe tbody tr th {\n",
       "        vertical-align: top;\n",
       "    }\n",
       "\n",
       "    .dataframe thead th {\n",
       "        text-align: right;\n",
       "    }\n",
       "</style>\n",
       "<table border=\"1\" class=\"dataframe\">\n",
       "  <thead>\n",
       "    <tr style=\"text-align: right;\">\n",
       "      <th></th>\n",
       "      <th>param_bootstrap</th>\n",
       "      <th>param_criterion</th>\n",
       "      <th>param_max_depth</th>\n",
       "      <th>param_max_features</th>\n",
       "      <th>param_min_samples_leaf</th>\n",
       "      <th>param_min_samples_split</th>\n",
       "      <th>param_n_estimators</th>\n",
       "      <th>split0_test_score</th>\n",
       "      <th>mean_test_score</th>\n",
       "      <th>std_test_score</th>\n",
       "      <th>rank_test_score</th>\n",
       "      <th>split0_train_score</th>\n",
       "      <th>mean_train_score</th>\n",
       "      <th>std_train_score</th>\n",
       "      <th>rank_train_score</th>\n",
       "      <th>mean_fit_time</th>\n",
       "      <th>std_fit_time</th>\n",
       "      <th>mean_score_time</th>\n",
       "      <th>std_score_time</th>\n",
       "      <th>params</th>\n",
       "    </tr>\n",
       "  </thead>\n",
       "  <tbody>\n",
       "    <tr>\n",
       "      <th>41</th>\n",
       "      <td>True</td>\n",
       "      <td>gini</td>\n",
       "      <td>6</td>\n",
       "      <td>sqrt</td>\n",
       "      <td>93</td>\n",
       "      <td>218</td>\n",
       "      <td>41</td>\n",
       "      <td>0.950726</td>\n",
       "      <td>0.950726</td>\n",
       "      <td>0.0</td>\n",
       "      <td>1</td>\n",
       "      <td>0.965769</td>\n",
       "      <td>0.965769</td>\n",
       "      <td>0.0</td>\n",
       "      <td>23</td>\n",
       "      <td>1.054204</td>\n",
       "      <td>0.0</td>\n",
       "      <td>0.018949</td>\n",
       "      <td>0.0</td>\n",
       "      <td>{'bootstrap': True, 'criterion': 'gini', 'max_...</td>\n",
       "    </tr>\n",
       "    <tr>\n",
       "      <th>42</th>\n",
       "      <td>True</td>\n",
       "      <td>gini</td>\n",
       "      <td>6</td>\n",
       "      <td>sqrt</td>\n",
       "      <td>93</td>\n",
       "      <td>218</td>\n",
       "      <td>41</td>\n",
       "      <td>0.950726</td>\n",
       "      <td>0.950726</td>\n",
       "      <td>0.0</td>\n",
       "      <td>1</td>\n",
       "      <td>0.965769</td>\n",
       "      <td>0.965769</td>\n",
       "      <td>0.0</td>\n",
       "      <td>23</td>\n",
       "      <td>0.994980</td>\n",
       "      <td>0.0</td>\n",
       "      <td>0.013943</td>\n",
       "      <td>0.0</td>\n",
       "      <td>{'bootstrap': True, 'criterion': 'gini', 'max_...</td>\n",
       "    </tr>\n",
       "    <tr>\n",
       "      <th>53</th>\n",
       "      <td>True</td>\n",
       "      <td>gini</td>\n",
       "      <td>6</td>\n",
       "      <td>sqrt</td>\n",
       "      <td>93</td>\n",
       "      <td>218</td>\n",
       "      <td>41</td>\n",
       "      <td>0.950726</td>\n",
       "      <td>0.950726</td>\n",
       "      <td>0.0</td>\n",
       "      <td>1</td>\n",
       "      <td>0.965769</td>\n",
       "      <td>0.965769</td>\n",
       "      <td>0.0</td>\n",
       "      <td>23</td>\n",
       "      <td>0.952458</td>\n",
       "      <td>0.0</td>\n",
       "      <td>0.011958</td>\n",
       "      <td>0.0</td>\n",
       "      <td>{'bootstrap': True, 'criterion': 'gini', 'max_...</td>\n",
       "    </tr>\n",
       "  </tbody>\n",
       "</table>\n",
       "</div>"
      ],
      "text/plain": [
       "    param_bootstrap param_criterion  param_max_depth param_max_features  \\\n",
       "41             True            gini                6               sqrt   \n",
       "42             True            gini                6               sqrt   \n",
       "53             True            gini                6               sqrt   \n",
       "\n",
       "    param_min_samples_leaf  param_min_samples_split  param_n_estimators  \\\n",
       "41                      93                      218                  41   \n",
       "42                      93                      218                  41   \n",
       "53                      93                      218                  41   \n",
       "\n",
       "    split0_test_score  mean_test_score  std_test_score  rank_test_score  \\\n",
       "41           0.950726         0.950726             0.0                1   \n",
       "42           0.950726         0.950726             0.0                1   \n",
       "53           0.950726         0.950726             0.0                1   \n",
       "\n",
       "    split0_train_score  mean_train_score  std_train_score  rank_train_score  \\\n",
       "41            0.965769          0.965769              0.0                23   \n",
       "42            0.965769          0.965769              0.0                23   \n",
       "53            0.965769          0.965769              0.0                23   \n",
       "\n",
       "    mean_fit_time  std_fit_time  mean_score_time  std_score_time  \\\n",
       "41       1.054204           0.0         0.018949             0.0   \n",
       "42       0.994980           0.0         0.013943             0.0   \n",
       "53       0.952458           0.0         0.011958             0.0   \n",
       "\n",
       "                                               params  \n",
       "41  {'bootstrap': True, 'criterion': 'gini', 'max_...  \n",
       "42  {'bootstrap': True, 'criterion': 'gini', 'max_...  \n",
       "53  {'bootstrap': True, 'criterion': 'gini', 'max_...  "
      ]
     },
     "execution_count": 26,
     "metadata": {},
     "output_type": "execute_result"
    }
   ],
   "source": [
    "results = pd.DataFrame(RF_GA_search.cv_results_).sort_values(by = 'rank_test_score')\n",
    "results.head(3)"
   ]
  },
  {
   "cell_type": "code",
   "execution_count": 27,
   "metadata": {},
   "outputs": [
    {
     "data": {
      "text/html": [
       "<div>\n",
       "<style scoped>\n",
       "    .dataframe tbody tr th:only-of-type {\n",
       "        vertical-align: middle;\n",
       "    }\n",
       "\n",
       "    .dataframe tbody tr th {\n",
       "        vertical-align: top;\n",
       "    }\n",
       "\n",
       "    .dataframe thead th {\n",
       "        text-align: right;\n",
       "    }\n",
       "</style>\n",
       "<table border=\"1\" class=\"dataframe\">\n",
       "  <thead>\n",
       "    <tr style=\"text-align: right;\">\n",
       "      <th></th>\n",
       "      <th>mean_test_score</th>\n",
       "      <th>std_test_score</th>\n",
       "      <th>mean_train_score</th>\n",
       "      <th>std_train_score</th>\n",
       "    </tr>\n",
       "  </thead>\n",
       "  <tbody>\n",
       "    <tr>\n",
       "      <th>0</th>\n",
       "      <td>0.936134</td>\n",
       "      <td>0.0</td>\n",
       "      <td>0.955205</td>\n",
       "      <td>0.0</td>\n",
       "    </tr>\n",
       "    <tr>\n",
       "      <th>1</th>\n",
       "      <td>0.940949</td>\n",
       "      <td>0.0</td>\n",
       "      <td>0.956675</td>\n",
       "      <td>0.0</td>\n",
       "    </tr>\n",
       "    <tr>\n",
       "      <th>2</th>\n",
       "      <td>0.944300</td>\n",
       "      <td>0.0</td>\n",
       "      <td>0.959360</td>\n",
       "      <td>0.0</td>\n",
       "    </tr>\n",
       "    <tr>\n",
       "      <th>3</th>\n",
       "      <td>0.947436</td>\n",
       "      <td>0.0</td>\n",
       "      <td>0.962448</td>\n",
       "      <td>0.0</td>\n",
       "    </tr>\n",
       "    <tr>\n",
       "      <th>4</th>\n",
       "      <td>0.935585</td>\n",
       "      <td>0.0</td>\n",
       "      <td>0.955063</td>\n",
       "      <td>0.0</td>\n",
       "    </tr>\n",
       "  </tbody>\n",
       "</table>\n",
       "</div>"
      ],
      "text/plain": [
       "   mean_test_score  std_test_score  mean_train_score  std_train_score\n",
       "0         0.936134             0.0          0.955205              0.0\n",
       "1         0.940949             0.0          0.956675              0.0\n",
       "2         0.944300             0.0          0.959360              0.0\n",
       "3         0.947436             0.0          0.962448              0.0\n",
       "4         0.935585             0.0          0.955063              0.0"
      ]
     },
     "execution_count": 27,
     "metadata": {},
     "output_type": "execute_result"
    }
   ],
   "source": [
    "results_cv2 = pd.DataFrame(RF_GA_search.cv_results_)\n",
    "results_cv2  = results_cv2[['mean_test_score', 'std_test_score', 'mean_train_score', 'std_train_score']]\n",
    "# plot_learning_curve_cross_validation(results_cv2, \"RF learning curve - GASearchCV\")\n",
    "results_cv2.head()"
   ]
  },
  {
   "cell_type": "code",
   "execution_count": 29,
   "metadata": {},
   "outputs": [
    {
     "data": {
      "image/png": "[encoded data removed]",
      "text/plain": [
       "<Figure size 720x432 with 1 Axes>"
      ]
     },
     "metadata": {},
     "output_type": "display_data"
    }
   ],
   "source": [
    "g = plot_learning_curve(RF_best,\"Random Forest learning curves\",X_train_3, y_train,cv=cv)"
   ]
  },
  {
   "attachments": {},
   "cell_type": "markdown",
   "metadata": {},
   "source": [
    "Curva ROC-AUC"
   ]
  },
  {
   "cell_type": "code",
   "execution_count": 52,
   "metadata": {},
   "outputs": [],
   "source": [
    "def plot_roc(model, l):\n",
    "    #fit logistic regression model and plot ROC curve\n",
    "    model.fit(X_train_3, y_train)\n",
    "    y_pred = model.predict_proba(X_test_3)[:, 1]\n",
    "    fpr, tpr, _ = metrics.roc_curve(y_test, y_pred)\n",
    "    auc = round(metrics.roc_auc_score(y_test, y_pred), 4)\n",
    "    plt.plot(fpr,tpr,label=l+ \" , AUC=\"+str(auc))"
   ]
  },
  {
   "cell_type": "code",
   "execution_count": 53,
   "metadata": {},
   "outputs": [
    {
     "data": {
      "text/plain": [
       "<matplotlib.legend.Legend at 0x2924a4a6a90>"
      ]
     },
     "execution_count": 53,
     "metadata": {},
     "output_type": "execute_result"
    },
    {
     "data": {
      "image/png": "[encoded data removed]",
      "text/plain": [
       "<Figure size 720x432 with 1 Axes>"
      ]
     },
     "metadata": {},
     "output_type": "display_data"
    }
   ],
   "source": [
    "labels = ['RF']\n",
    "models = [RF_best]\n",
    "\n",
    "#set up plotting area\n",
    "\n",
    "plt.figure(figsize=(10, 6)).clf()\n",
    "\n",
    "for i, j in enumerate(models):\n",
    "\n",
    "    plot_roc(j, labels[i])\n",
    "\n",
    "\n",
    "#add legend\n",
    "plt.legend()"
   ]
  },
  {
   "cell_type": "code",
   "execution_count": 98,
   "metadata": {},
   "outputs": [],
   "source": [
    "y_pred = RF_best.predict_proba(X_train_3)"
   ]
  },
  {
   "cell_type": "code",
   "execution_count": 99,
   "metadata": {},
   "outputs": [
    {
     "data": {
      "text/plain": [
       "array([[0.68498357, 0.31501643],\n",
       "       [0.40828528, 0.59171472],\n",
       "       [0.83998249, 0.16001751],\n",
       "       ...,\n",
       "       [0.14818032, 0.85181968],\n",
       "       [0.09769239, 0.90230761],\n",
       "       [0.10505078, 0.89494922]])"
      ]
     },
     "execution_count": 99,
     "metadata": {},
     "output_type": "execute_result"
    }
   ],
   "source": [
    "y_pred "
   ]
  },
  {
   "cell_type": "code",
   "execution_count": 100,
   "metadata": {},
   "outputs": [],
   "source": [
    "inferencia = pd.DataFrame(y_pred, columns=[\"NORMAL\", \"PNEUMONIA\"])"
   ]
  },
  {
   "cell_type": "code",
   "execution_count": 101,
   "metadata": {},
   "outputs": [],
   "source": [
    "inferencia['y'] = np.array(y_train)"
   ]
  },
  {
   "cell_type": "code",
   "execution_count": 102,
   "metadata": {},
   "outputs": [
    {
     "data": {
      "image/png": "[encoded data removed]",
      "text/plain": [
       "<Figure size 720x432 with 1 Axes>"
      ]
     },
     "metadata": {},
     "output_type": "display_data"
    }
   ],
   "source": [
    "plt.figure(figsize=(10, 6))\n",
    "g = sns.kdeplot(inferencia[\"PNEUMONIA\"][(inferencia[\"y\"] == 0) & (inferencia[\"y\"].notnull())], color=\"Blue\", shade = True)\n",
    "g = sns.kdeplot(inferencia[\"PNEUMONIA\"][(inferencia[\"y\"] == 1) & (inferencia[\"y\"].notnull())], ax =g, color=\"Red\", shade= True)\n",
    "g.set_xlabel(\"Probabilidades\")\n",
    "g.set_ylabel(\"Frequency\")\n",
    "g = g.legend([\"NORMAL\", \"PNEUMONIA\"])\n",
    "plt.show()"
   ]
  },
  {
   "cell_type": "code",
   "execution_count": 103,
   "metadata": {},
   "outputs": [],
   "source": [
    "y_pred = RF_best.predict_proba(X_train_3)\n",
    "y_pred = pd.DataFrame(y_pred, columns=[\"NORMAL\", \"PNEUMONIA\"])\n",
    "y_pred_opt = y_pred.PNEUMONIA.apply(lambda x: 1 if x>=0.77 else 0)"
   ]
  },
  {
   "cell_type": "code",
   "execution_count": 104,
   "metadata": {},
   "outputs": [
    {
     "name": "stdout",
     "output_type": "stream",
     "text": [
      "Classification Report: \n",
      "               precision    recall  f1-score   support\n",
      "\n",
      "           0       0.72      0.96      0.82      1341\n",
      "           1       0.98      0.87      0.92      3875\n",
      "\n",
      "    accuracy                           0.89      5216\n",
      "   macro avg       0.85      0.91      0.87      5216\n",
      "weighted avg       0.91      0.89      0.90      5216\n",
      "\n",
      "Gini:  0.8256519208101805\n",
      "ROC AUC::  0.9128259604050902\n"
     ]
    },
    {
     "data": {
      "image/png": "[encoded data removed]",
      "text/plain": [
       "<Figure size 576x432 with 2 Axes>"
      ]
     },
     "metadata": {},
     "output_type": "display_data"
    }
   ],
   "source": [
    "cm = confusion_matrix(y_train, y_pred_opt)\n",
    "cm_df = pd.DataFrame(cm)                      \n",
    "plt.figure(figsize=(8,6))  \n",
    "sns.heatmap(cm_df, annot=True)\n",
    "print(\"Classification Report: \\n\", classification_report(y_train, y_pred_opt))  \n",
    "\n",
    "\n",
    "roc_auc = roc_auc_score(y_train, y_pred_opt, multi_class = 'ovr', average=None)\n",
    "gini = 2*roc_auc -1\n",
    "print(\"Gini: \",gini)\n",
    "print(\"ROC AUC:: \",roc_auc)"
   ]
  },
  {
   "cell_type": "code",
   "execution_count": 95,
   "metadata": {},
   "outputs": [
    {
     "data": {
      "text/plain": [
       "array([[1283,   58],\n",
       "       [ 508, 3367]], dtype=int64)"
      ]
     },
     "execution_count": 95,
     "metadata": {},
     "output_type": "execute_result"
    }
   ],
   "source": [
    "confusion_matrix(y_train, y_pred_opt)"
   ]
  },
  {
   "cell_type": "code",
   "execution_count": 96,
   "metadata": {},
   "outputs": [],
   "source": [
    "# fit_and_print(RF_best, X_val)"
   ]
  },
  {
   "cell_type": "code",
   "execution_count": 97,
   "metadata": {},
   "outputs": [],
   "source": [
    "y_pred = RF_best.predict_proba(X_test_3)\n",
    "y_pred = pd.DataFrame(y_pred, columns=[\"NORMAL\", \"PNEUMONIA\"])\n",
    "y_pred_opt = y_pred.PNEUMONIA.apply(lambda x: 1 if x>=0.77 else 0)"
   ]
  },
  {
   "cell_type": "code",
   "execution_count": 88,
   "metadata": {},
   "outputs": [
    {
     "data": {
      "text/html": [
       "<div>\n",
       "<style scoped>\n",
       "    .dataframe tbody tr th:only-of-type {\n",
       "        vertical-align: middle;\n",
       "    }\n",
       "\n",
       "    .dataframe tbody tr th {\n",
       "        vertical-align: top;\n",
       "    }\n",
       "\n",
       "    .dataframe thead th {\n",
       "        text-align: right;\n",
       "    }\n",
       "</style>\n",
       "<table border=\"1\" class=\"dataframe\">\n",
       "  <thead>\n",
       "    <tr style=\"text-align: right;\">\n",
       "      <th></th>\n",
       "      <th>NORMAL</th>\n",
       "      <th>PNEUMONIA</th>\n",
       "    </tr>\n",
       "  </thead>\n",
       "  <tbody>\n",
       "    <tr>\n",
       "      <th>0</th>\n",
       "      <td>0.588653</td>\n",
       "      <td>0.411347</td>\n",
       "    </tr>\n",
       "    <tr>\n",
       "      <th>1</th>\n",
       "      <td>0.285452</td>\n",
       "      <td>0.714548</td>\n",
       "    </tr>\n",
       "    <tr>\n",
       "      <th>2</th>\n",
       "      <td>0.250611</td>\n",
       "      <td>0.749389</td>\n",
       "    </tr>\n",
       "    <tr>\n",
       "      <th>3</th>\n",
       "      <td>0.209576</td>\n",
       "      <td>0.790424</td>\n",
       "    </tr>\n",
       "    <tr>\n",
       "      <th>4</th>\n",
       "      <td>0.295268</td>\n",
       "      <td>0.704732</td>\n",
       "    </tr>\n",
       "    <tr>\n",
       "      <th>...</th>\n",
       "      <td>...</td>\n",
       "      <td>...</td>\n",
       "    </tr>\n",
       "    <tr>\n",
       "      <th>619</th>\n",
       "      <td>0.128928</td>\n",
       "      <td>0.871072</td>\n",
       "    </tr>\n",
       "    <tr>\n",
       "      <th>620</th>\n",
       "      <td>0.156120</td>\n",
       "      <td>0.843880</td>\n",
       "    </tr>\n",
       "    <tr>\n",
       "      <th>621</th>\n",
       "      <td>0.131702</td>\n",
       "      <td>0.868298</td>\n",
       "    </tr>\n",
       "    <tr>\n",
       "      <th>622</th>\n",
       "      <td>0.087453</td>\n",
       "      <td>0.912547</td>\n",
       "    </tr>\n",
       "    <tr>\n",
       "      <th>623</th>\n",
       "      <td>0.181698</td>\n",
       "      <td>0.818302</td>\n",
       "    </tr>\n",
       "  </tbody>\n",
       "</table>\n",
       "<p>624 rows × 2 columns</p>\n",
       "</div>"
      ],
      "text/plain": [
       "       NORMAL  PNEUMONIA\n",
       "0    0.588653   0.411347\n",
       "1    0.285452   0.714548\n",
       "2    0.250611   0.749389\n",
       "3    0.209576   0.790424\n",
       "4    0.295268   0.704732\n",
       "..        ...        ...\n",
       "619  0.128928   0.871072\n",
       "620  0.156120   0.843880\n",
       "621  0.131702   0.868298\n",
       "622  0.087453   0.912547\n",
       "623  0.181698   0.818302\n",
       "\n",
       "[624 rows x 2 columns]"
      ]
     },
     "execution_count": 88,
     "metadata": {},
     "output_type": "execute_result"
    }
   ],
   "source": [
    "y_pred"
   ]
  },
  {
   "cell_type": "code",
   "execution_count": 89,
   "metadata": {},
   "outputs": [
    {
     "data": {
      "text/plain": [
       "1    416\n",
       "0    208\n",
       "Name: PNEUMONIA, dtype: int64"
      ]
     },
     "execution_count": 89,
     "metadata": {},
     "output_type": "execute_result"
    }
   ],
   "source": [
    "y_pred_opt.value_counts()"
   ]
  },
  {
   "cell_type": "code",
   "execution_count": 90,
   "metadata": {},
   "outputs": [
    {
     "data": {
      "text/plain": [
       "0      0.411347\n",
       "1      0.714548\n",
       "2      0.749389\n",
       "3      0.790424\n",
       "4      0.704732\n",
       "         ...   \n",
       "619    0.871072\n",
       "620    0.843880\n",
       "621    0.868298\n",
       "622    0.912547\n",
       "623    0.818302\n",
       "Name: PNEUMONIA, Length: 624, dtype: float64"
      ]
     },
     "execution_count": 90,
     "metadata": {},
     "output_type": "execute_result"
    }
   ],
   "source": [
    "y_pred.PNEUMONIA"
   ]
  },
  {
   "cell_type": "code",
   "execution_count": 91,
   "metadata": {},
   "outputs": [
    {
     "name": "stdout",
     "output_type": "stream",
     "text": [
      "Classification Report: \n",
      "               precision    recall  f1-score   support\n",
      "\n",
      "           0       0.74      0.65      0.69       234\n",
      "           1       0.81      0.86      0.83       390\n",
      "\n",
      "    accuracy                           0.78       624\n",
      "   macro avg       0.77      0.76      0.76       624\n",
      "weighted avg       0.78      0.78      0.78       624\n",
      "\n",
      "Gini:  0.512820512820513\n",
      "ROC AUC::  0.7564102564102565\n"
     ]
    },
    {
     "data": {
      "image/png": "[encoded data removed]",
      "text/plain": [
       "<Figure size 576x432 with 2 Axes>"
      ]
     },
     "metadata": {},
     "output_type": "display_data"
    }
   ],
   "source": [
    "cm = confusion_matrix(y_test, y_pred_opt)\n",
    "cm_df = pd.DataFrame(cm)                      \n",
    "plt.figure(figsize=(8,6))  \n",
    "sns.heatmap(cm_df, annot=True)\n",
    "print(\"Classification Report: \\n\", classification_report(y_test, y_pred_opt))  \n",
    "\n",
    "\n",
    "roc_auc = roc_auc_score(y_test, y_pred_opt, multi_class = 'ovr', average=None)\n",
    "gini = 2*roc_auc -1\n",
    "print(\"Gini: \",gini)\n",
    "print(\"ROC AUC:: \",roc_auc)"
   ]
  },
  {
   "cell_type": "code",
   "execution_count": 92,
   "metadata": {},
   "outputs": [
    {
     "data": {
      "text/plain": [
       "array([[153,  81],\n",
       "       [ 55, 335]], dtype=int64)"
      ]
     },
     "execution_count": 92,
     "metadata": {},
     "output_type": "execute_result"
    }
   ],
   "source": [
    "confusion_matrix(y_test, y_pred_opt)"
   ]
  },
  {
   "attachments": {},
   "cell_type": "markdown",
   "metadata": {},
   "source": [
    "base de validação"
   ]
  },
  {
   "cell_type": "code",
   "execution_count": 44,
   "metadata": {},
   "outputs": [],
   "source": [
    "y_pred = RF_best.predict_proba(X_val_3)\n",
    "y_pred = pd.DataFrame(y_pred, columns=[\"NORMAL\", \"PNEUMONIA\"])\n",
    "y_pred_opt = y_pred.PNEUMONIA.apply(lambda x: 1 if x>=0.77 else 0)"
   ]
  },
  {
   "cell_type": "code",
   "execution_count": 45,
   "metadata": {},
   "outputs": [
    {
     "name": "stdout",
     "output_type": "stream",
     "text": [
      "Classification Report: \n",
      "               precision    recall  f1-score   support\n",
      "\n",
      "           0       0.86      0.75      0.80         8\n",
      "           1       0.78      0.88      0.82         8\n",
      "\n",
      "    accuracy                           0.81        16\n",
      "   macro avg       0.82      0.81      0.81        16\n",
      "weighted avg       0.82      0.81      0.81        16\n",
      "\n",
      "Gini:  0.625\n",
      "ROC AUC::  0.8125\n"
     ]
    },
    {
     "data": {
      "image/png": "[encoded data removed]",
      "text/plain": [
       "<Figure size 576x432 with 2 Axes>"
      ]
     },
     "metadata": {},
     "output_type": "display_data"
    }
   ],
   "source": [
    "cm = confusion_matrix(y_val, y_pred_opt)\n",
    "cm_df = pd.DataFrame(cm)                      \n",
    "plt.figure(figsize=(8,6))  \n",
    "sns.heatmap(cm_df, annot=True)\n",
    "print(\"Classification Report: \\n\", classification_report(y_val, y_pred_opt))  \n",
    "\n",
    "\n",
    "roc_auc = roc_auc_score(y_val, y_pred_opt, multi_class = 'ovr', average=None)\n",
    "gini = 2*roc_auc -1\n",
    "print(\"Gini: \",gini)\n",
    "print(\"ROC AUC:: \",roc_auc)"
   ]
  },
  {
   "cell_type": "code",
   "execution_count": null,
   "metadata": {},
   "outputs": [],
   "source": []
  },
  {
   "cell_type": "code",
   "execution_count": 46,
   "metadata": {},
   "outputs": [
    {
     "data": {
      "text/plain": [
       "['resnet_images.sav']"
      ]
     },
     "execution_count": 46,
     "metadata": {},
     "output_type": "execute_result"
    }
   ],
   "source": [
    "import pickle\n",
    "pickle.dump(pca, open( \"pca.pickle\", \"wb\" ))\n",
    "pickle.dump(std, open( \"std.pickle\", \"wb\" ))\n",
    "\n",
    "import joblib\n",
    "filename = 'resnet_images.sav'\n",
    "joblib.dump(RF_best, filename)"
   ]
  },
  {
   "cell_type": "code",
   "execution_count": null,
   "metadata": {},
   "outputs": [],
   "source": []
  }
 ],
 "metadata": {
  "kernelspec": {
   "display_name": "Python 3",
   "language": "python",
   "name": "python3"
  },
  "language_info": {
   "codemirror_mode": {
    "name": "ipython",
    "version": 3
   },
   "file_extension": ".py",
   "mimetype": "text/x-python",
   "name": "python",
   "nbconvert_exporter": "python",
   "pygments_lexer": "ipython3",
   "version": "3.9.12"
  }
 },
 "nbformat": 4,
 "nbformat_minor": 2
}
